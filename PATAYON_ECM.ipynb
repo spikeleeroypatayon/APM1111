{
 "cells": [
  {
   "cell_type": "code",
   "execution_count": 10,
   "id": "6c4db536",
   "metadata": {},
   "outputs": [
    {
     "name": "stdout",
     "output_type": "stream",
     "text": [
      "Proportions for each sample:\n",
      "                           Sample  Proportion of Robredo  Proportion of Marcos\n",
      " Robredo, Robredo, Marcos, Marcos                   0.50                  0.50\n",
      "   Marcos, Marcos, Marcos, Marcos                   0.00                  1.00\n",
      "Robredo, Marcos, Robredo, Robredo                   0.75                  0.25\n",
      "   Marcos, Marcos, Marcos, Marcos                   0.00                  1.00\n",
      "  Robredo, Marcos, Marcos, Marcos                   0.25                  0.75\n",
      "  Marcos, Robredo, Marcos, Marcos                   0.25                  0.75\n",
      "  Marcos, Robredo, Marcos, Marcos                   0.25                  0.75\n",
      "  Marcos, Marcos, Robredo, Marcos                   0.25                  0.75\n",
      "  Marcos, Robredo, Marcos, Marcos                   0.25                  0.75\n",
      " Robredo, Marcos, Robredo, Marcos                   0.50                  0.50\n",
      " Marcos, Robredo, Marcos, Robredo                   0.50                  0.50\n",
      " Marcos, Robredo, Marcos, Robredo                   0.50                  0.50\n",
      "   Marcos, Marcos, Marcos, Marcos                   0.00                  1.00\n",
      "Robredo, Robredo, Robredo, Marcos                   0.75                  0.25\n",
      "  Marcos, Marcos, Robredo, Marcos                   0.25                  0.75\n",
      "\n",
      "Average Proportion of 'Robredo': 0.3333333333333333\n",
      "Average Proportion of 'Marcos': 0.6666666666666666\n"
     ]
    }
   ],
   "source": [
    "import numpy as np\n",
    "import pandas as pd\n",
    "\n",
    "population = ['Marcos', 'Marcos', 'Marcos', 'Marcos', 'Robredo', 'Robredo']\n",
    "\n",
    "sample_size = 4\n",
    "num_samples = 15 \n",
    "\n",
    "samples = []\n",
    "proportions_robredo = []\n",
    "proportions_marcos = []\n",
    "\n",
    "for _ in range(num_samples):\n",
    "    sample = np.random.choice(population, size=sample_size, replace=True)\n",
    "    prop_robredo = np.mean(np.array(sample) == 'Robredo')\n",
    "    prop_marcos = np.mean(np.array(sample) == 'Marcos')\n",
    "    \n",
    "    samples.append(sample)\n",
    "    proportions_robredo.append(prop_robredo)\n",
    "    proportions_marcos.append(prop_marcos)\n",
    "\n",
    "df = pd.DataFrame({\n",
    "    'Sample': [', '.join(s) for s in samples],\n",
    "    'Proportion of Robredo': proportions_robredo,\n",
    "    'Proportion of Marcos': proportions_marcos\n",
    "})\n",
    "\n",
    "print(\"Proportions for each sample:\")\n",
    "print(df.to_string(index=False))\n",
    "\n",
    "avg_prop_robredo = np.mean(proportions_robredo)\n",
    "avg_prop_marcos = np.mean(proportions_marcos)\n",
    "\n",
    "print(f\"\\nAverage Proportion of 'Robredo': {avg_prop_robredo}\")\n",
    "print(f\"Average Proportion of 'Marcos': {avg_prop_marcos}\")\n",
    " \n"
   ]
  },
  {
   "cell_type": "code",
   "execution_count": null,
   "id": "e4945f74",
   "metadata": {},
   "outputs": [],
   "source": []
  }
 ],
 "metadata": {
  "kernelspec": {
   "display_name": "Python 3 (ipykernel)",
   "language": "python",
   "name": "python3"
  },
  "language_info": {
   "codemirror_mode": {
    "name": "ipython",
    "version": 3
   },
   "file_extension": ".py",
   "mimetype": "text/x-python",
   "name": "python",
   "nbconvert_exporter": "python",
   "pygments_lexer": "ipython3",
   "version": "3.9.13"
  }
 },
 "nbformat": 4,
 "nbformat_minor": 5
}
