{
 "cells": [
  {
   "cell_type": "markdown",
   "id": "3132496d-c2be-4397-87f6-af5bb0c197c3",
   "metadata": {},
   "source": [
    "# Formative Assessment # 7"
   ]
  },
  {
   "cell_type": "markdown",
   "id": "e92eabb3-d0df-4788-afea-2d2e57f69d27",
   "metadata": {},
   "source": [
    "Statistical Theory"
   ]
  },
  {
   "cell_type": "markdown",
   "id": "e00b5637-765d-44bd-9e88-3a167a058be3",
   "metadata": {},
   "source": [
    " Provide an R or Python (with markdown) file for the independent samples t-test for Invisibility Cloak data set. \n",
    "The file should have all the codes/and or explanations from Assumption 1 to 5 and computation."
   ]
  },
  {
   "cell_type": "markdown",
   "id": "fb0d4b31-7fc9-4ad9-af8c-6efeb5ef2f49",
   "metadata": {},
   "source": [
    "## Invisibility Cloak: Independent samples t-test"
   ]
  },
  {
   "cell_type": "markdown",
   "id": "d07932e5-5d08-42b1-aafb-8d9440b6b026",
   "metadata": {},
   "source": [
    "This data set, \"Invisibility Cloak\", provides the number of mischievous acts committed by two groups of people, those with and those without an invisibility cloak."
   ]
  },
  {
   "cell_type": "markdown",
   "id": "55527906-7d5c-4fa7-8d5e-1e44d1981e18",
   "metadata": {},
   "source": [
    "Put the necessary library to be used"
   ]
  },
  {
   "cell_type": "code",
   "execution_count": 42,
   "id": "94eafa26-dafa-445f-899d-72af77e590d8",
   "metadata": {},
   "outputs": [],
   "source": [
    "import pandas as pd\n",
    "import numpy as np\n",
    "import matplotlib.pyplot as plt\n",
    "import seaborn as sns\n",
    "from scipy.stats import shapiro, levene, ttest_ind\n",
    "import scipy.stats as stats\n",
    "from scipy.stats import ttest_ind"
   ]
  },
  {
   "cell_type": "code",
   "execution_count": 58,
   "id": "4c240e0c-7fe1-4e2e-893a-c0c3cbe581e5",
   "metadata": {},
   "outputs": [
    {
     "data": {
      "text/html": [
       "<div>\n",
       "<style scoped>\n",
       "    .dataframe tbody tr th:only-of-type {\n",
       "        vertical-align: middle;\n",
       "    }\n",
       "\n",
       "    .dataframe tbody tr th {\n",
       "        vertical-align: top;\n",
       "    }\n",
       "\n",
       "    .dataframe thead th {\n",
       "        text-align: right;\n",
       "    }\n",
       "</style>\n",
       "<table border=\"1\" class=\"dataframe\">\n",
       "  <thead>\n",
       "    <tr style=\"text-align: right;\">\n",
       "      <th></th>\n",
       "      <th>Participants</th>\n",
       "      <th>Cloak</th>\n",
       "      <th>Mischief</th>\n",
       "    </tr>\n",
       "  </thead>\n",
       "  <tbody>\n",
       "    <tr>\n",
       "      <th>0</th>\n",
       "      <td>1</td>\n",
       "      <td>0</td>\n",
       "      <td>3</td>\n",
       "    </tr>\n",
       "    <tr>\n",
       "      <th>1</th>\n",
       "      <td>2</td>\n",
       "      <td>0</td>\n",
       "      <td>1</td>\n",
       "    </tr>\n",
       "    <tr>\n",
       "      <th>2</th>\n",
       "      <td>3</td>\n",
       "      <td>0</td>\n",
       "      <td>5</td>\n",
       "    </tr>\n",
       "    <tr>\n",
       "      <th>3</th>\n",
       "      <td>4</td>\n",
       "      <td>0</td>\n",
       "      <td>4</td>\n",
       "    </tr>\n",
       "    <tr>\n",
       "      <th>4</th>\n",
       "      <td>5</td>\n",
       "      <td>0</td>\n",
       "      <td>6</td>\n",
       "    </tr>\n",
       "    <tr>\n",
       "      <th>5</th>\n",
       "      <td>6</td>\n",
       "      <td>0</td>\n",
       "      <td>4</td>\n",
       "    </tr>\n",
       "    <tr>\n",
       "      <th>6</th>\n",
       "      <td>7</td>\n",
       "      <td>0</td>\n",
       "      <td>6</td>\n",
       "    </tr>\n",
       "    <tr>\n",
       "      <th>7</th>\n",
       "      <td>8</td>\n",
       "      <td>0</td>\n",
       "      <td>2</td>\n",
       "    </tr>\n",
       "    <tr>\n",
       "      <th>8</th>\n",
       "      <td>9</td>\n",
       "      <td>0</td>\n",
       "      <td>0</td>\n",
       "    </tr>\n",
       "    <tr>\n",
       "      <th>9</th>\n",
       "      <td>10</td>\n",
       "      <td>0</td>\n",
       "      <td>5</td>\n",
       "    </tr>\n",
       "    <tr>\n",
       "      <th>10</th>\n",
       "      <td>11</td>\n",
       "      <td>0</td>\n",
       "      <td>4</td>\n",
       "    </tr>\n",
       "    <tr>\n",
       "      <th>11</th>\n",
       "      <td>12</td>\n",
       "      <td>0</td>\n",
       "      <td>5</td>\n",
       "    </tr>\n",
       "    <tr>\n",
       "      <th>12</th>\n",
       "      <td>13</td>\n",
       "      <td>1</td>\n",
       "      <td>4</td>\n",
       "    </tr>\n",
       "    <tr>\n",
       "      <th>13</th>\n",
       "      <td>14</td>\n",
       "      <td>1</td>\n",
       "      <td>3</td>\n",
       "    </tr>\n",
       "    <tr>\n",
       "      <th>14</th>\n",
       "      <td>15</td>\n",
       "      <td>1</td>\n",
       "      <td>6</td>\n",
       "    </tr>\n",
       "    <tr>\n",
       "      <th>15</th>\n",
       "      <td>16</td>\n",
       "      <td>1</td>\n",
       "      <td>6</td>\n",
       "    </tr>\n",
       "    <tr>\n",
       "      <th>16</th>\n",
       "      <td>17</td>\n",
       "      <td>1</td>\n",
       "      <td>8</td>\n",
       "    </tr>\n",
       "    <tr>\n",
       "      <th>17</th>\n",
       "      <td>18</td>\n",
       "      <td>1</td>\n",
       "      <td>5</td>\n",
       "    </tr>\n",
       "    <tr>\n",
       "      <th>18</th>\n",
       "      <td>19</td>\n",
       "      <td>1</td>\n",
       "      <td>5</td>\n",
       "    </tr>\n",
       "    <tr>\n",
       "      <th>19</th>\n",
       "      <td>20</td>\n",
       "      <td>1</td>\n",
       "      <td>4</td>\n",
       "    </tr>\n",
       "    <tr>\n",
       "      <th>20</th>\n",
       "      <td>21</td>\n",
       "      <td>1</td>\n",
       "      <td>2</td>\n",
       "    </tr>\n",
       "    <tr>\n",
       "      <th>21</th>\n",
       "      <td>22</td>\n",
       "      <td>1</td>\n",
       "      <td>5</td>\n",
       "    </tr>\n",
       "    <tr>\n",
       "      <th>22</th>\n",
       "      <td>23</td>\n",
       "      <td>1</td>\n",
       "      <td>7</td>\n",
       "    </tr>\n",
       "    <tr>\n",
       "      <th>23</th>\n",
       "      <td>24</td>\n",
       "      <td>1</td>\n",
       "      <td>5</td>\n",
       "    </tr>\n",
       "  </tbody>\n",
       "</table>\n",
       "</div>"
      ],
      "text/plain": [
       "    Participants  Cloak  Mischief\n",
       "0              1      0         3\n",
       "1              2      0         1\n",
       "2              3      0         5\n",
       "3              4      0         4\n",
       "4              5      0         6\n",
       "5              6      0         4\n",
       "6              7      0         6\n",
       "7              8      0         2\n",
       "8              9      0         0\n",
       "9             10      0         5\n",
       "10            11      0         4\n",
       "11            12      0         5\n",
       "12            13      1         4\n",
       "13            14      1         3\n",
       "14            15      1         6\n",
       "15            16      1         6\n",
       "16            17      1         8\n",
       "17            18      1         5\n",
       "18            19      1         5\n",
       "19            20      1         4\n",
       "20            21      1         2\n",
       "21            22      1         5\n",
       "22            23      1         7\n",
       "23            24      1         5"
      ]
     },
     "execution_count": 58,
     "metadata": {},
     "output_type": "execute_result"
    }
   ],
   "source": [
    "participant = [1,2,3,4,5,6,7,8,9,10,11,12,13,14,15,16,17,18,19,20,21,22,23,24]\n",
    "cloak = [0,0,0,0,0,0,0,0,0,0,0,0,1,1,1,1,1,1,1,1,1,1,1,1]\n",
    "mischief = [3,1,5,4,6,4,6,2,0,5,4,5,4,3,6,6,8,5,5,4,2,5,7,5]\n",
    "\n",
    "data = pd.DataFrame({\n",
    "    'Participants': participant,\n",
    "    'Cloak': cloak,\n",
    "    'Mischief': mischief\n",
    "})\n",
    "\n",
    "data"
   ]
  },
  {
   "cell_type": "markdown",
   "id": "5835e4cd-8fce-4eb2-a770-cafca2c96df2",
   "metadata": {},
   "source": [
    "Variables used and its purpose:\n",
    "* Participant - Identification number of a participant.\n",
    "* Cloak - Experimental group (0 = without a cloak of invisibility, 1 = with a cloak of invisibility).\n",
    "* Mischief - the number of mischievous acts committed by a participant.\n"
   ]
  },
  {
   "cell_type": "markdown",
   "id": "693e7a04-9f75-411c-8e23-dfddf6af5e7d",
   "metadata": {},
   "source": [
    "## Assumption checks"
   ]
  },
  {
   "cell_type": "markdown",
   "id": "c5bfad86-3096-40f5-b102-e03fad5499af",
   "metadata": {},
   "source": [
    "#### Assumption 1. The dependent variable (Mischief) is a continuous level."
   ]
  },
  {
   "cell_type": "markdown",
   "id": "998b0f30-bb2e-47f0-8698-578f69bbc1a8",
   "metadata": {},
   "source": [
    "to prove this that the dependent variable (Mischief) is a continuous level, the values must be on a ratio or interval scale, and they must be numerical. This implies that every value within a range can be represented by the data, and that variations in values have significance.\n"
   ]
  },
  {
   "cell_type": "code",
   "execution_count": 27,
   "id": "11260b92-20b2-4e5b-9d92-219380a21422",
   "metadata": {},
   "outputs": [
    {
     "name": "stdout",
     "output_type": "stream",
     "text": [
      "count    24.000000\n",
      "mean      4.375000\n",
      "std       1.860633\n",
      "min       0.000000\n",
      "25%       3.750000\n",
      "50%       5.000000\n",
      "75%       5.250000\n",
      "max       8.000000\n",
      "Name: Mischief, dtype: float64\n"
     ]
    }
   ],
   "source": [
    "print(data['Mischief'].describe())"
   ]
  },
  {
   "cell_type": "markdown",
   "id": "7b5749bd-16c6-49d1-a8e6-ff6ab1acf44d",
   "metadata": {},
   "source": [
    "Display summary statistics (mean, standard deviation, etc.) to ensure it behaves like a continuous variable."
   ]
  },
  {
   "cell_type": "markdown",
   "id": "0f8d7389-ce13-4814-acd6-09c3f0ca114d",
   "metadata": {},
   "source": [
    "The prerequisite for this assumption is met by the existence of these descriptive statistics, which validate that Mischief is assessed at a continuous level.\n"
   ]
  },
  {
   "cell_type": "markdown",
   "id": "9ddd2b41-c5a5-4aa1-bfa0-7518f688fe33",
   "metadata": {},
   "source": [
    "#### Assumption 2: The independent variable (Cloak) consists of two categorical independent groups"
   ]
  },
  {
   "cell_type": "code",
   "execution_count": 76,
   "id": "a67dd34c-182b-4652-a51c-3dd5e5d6a53b",
   "metadata": {},
   "outputs": [
    {
     "name": "stdout",
     "output_type": "stream",
     "text": [
      "\n",
      "Assumption 2: Unique groups in 'Cloak': [0 1]\n"
     ]
    }
   ],
   "source": [
    "print(\"\\nAssumption 2: Unique groups in 'Cloak':\", data['Cloak'].unique())"
   ]
  },
  {
   "cell_type": "markdown",
   "id": "c6810987-bbf0-48de-accb-ad8c8fc825be",
   "metadata": {},
   "source": [
    "The outcome shows that the following unique groups belong to the Cloak variable: [enter unique values, such as 0, 1]. This demonstrates that the dataset's Cloak variable contains well-defined groups, which is necessary for any comparison study.\n",
    "\n",
    "A binary grouping (e.g., 0 for Without Cloak and 1 for With Cloak) is suggested if there are only two unique values, satisfying the requirement of different group membership for additional analysis.\n"
   ]
  },
  {
   "cell_type": "markdown",
   "id": "4129c560-67f9-4ffd-8ec3-0a16a08b1e46",
   "metadata": {},
   "source": [
    "#### Assumption 3: Each participant is present in only one group"
   ]
  },
  {
   "cell_type": "code",
   "execution_count": 78,
   "id": "90190fb0-3537-41df-af05-aadc8f668944",
   "metadata": {},
   "outputs": [
    {
     "name": "stdout",
     "output_type": "stream",
     "text": [
      "\n",
      "Assumption 3: Each participant is in one group: True\n"
     ]
    }
   ],
   "source": [
    "group_check = data.groupby('Participant')['Cloak'].nunique()\n",
    "print(\"\\nAssumption 3: Each participant is in one group:\", all(group_check == 1))"
   ]
  },
  {
   "cell_type": "markdown",
   "id": "1162be60-0dda-4d12-a081-86d81d2bca7b",
   "metadata": {},
   "source": [
    "This assumption ensures that each participant belongs exclusively to one group (either With Cloak or Without Cloak), which is a requirement for independent samples analysis. The analysis was performed by grouping the data based on participants and checking the number of unique group memberships (Cloak) for each participant.\n",
    "\n",
    "The result indicates that all participants are indeed in a single group, confirming that there are no participants who switch between groups. Therefore, this assumption is satisfied for the given dataset."
   ]
  },
  {
   "cell_type": "markdown",
   "id": "222a9efd-5896-41fd-a8ff-1c6a580485d1",
   "metadata": {},
   "source": [
    "#### Assumption 4: Checking for outliers using boxplot"
   ]
  },
  {
   "cell_type": "code",
   "execution_count": 48,
   "id": "f6ff028c-1dbf-473b-b5ec-58805e86dd13",
   "metadata": {},
   "outputs": [
    {
     "data": {
      "image/png": "[encoded data removed]",
      "text/plain": [
       "<Figure size 800x600 with 1 Axes>"
      ]
     },
     "metadata": {},
     "output_type": "display_data"
    }
   ],
   "source": [
    "# Assumption 4: Checking for outliers using boxplot\n",
    "plt.figure(figsize=(8, 6))\n",
    "sns.boxplot(x='Cloak', y='Mischief', data=data)\n",
    "plt.title('Boxplot of Mischief by Cloak Group')\n",
    "plt.show()"
   ]
  },
  {
   "cell_type": "markdown",
   "id": "9f03d4f3-8a19-4e04-8999-35fc4c21ffe2",
   "metadata": {},
   "source": [
    "Based on a visual review of the boxplots, there are no significant outliers in either of the two groups of the independent variable Cloak with respect to the dependent variable Mischief. This implies that the Mischief variable's distribution is rather constant among the Cloak groups, with no high values impacting the data's dissemination."
   ]
  },
  {
   "cell_type": "markdown",
   "id": "a48b8869-09cf-4d39-9fec-46c868211ad6",
   "metadata": {},
   "source": [
    "#### Assumption 5. Test for Normality by using Shapiro-Wilk Test"
   ]
  },
  {
   "cell_type": "code",
   "execution_count": 80,
   "id": "de068954-8ead-40c5-b762-ad34555c4942",
   "metadata": {},
   "outputs": [
    {
     "name": "stdout",
     "output_type": "stream",
     "text": [
      "\n",
      "Assumption 5: Test for Normality (Shapiro-Wilk)\n",
      "Without Cloak (W=0.913, p=0.231)\n",
      "With Cloak (W=0.973, p=0.936)\n"
     ]
    }
   ],
   "source": [
    "# Assumption 5: Test for normality using Shapiro-Wilk test\n",
    "group0 = data[data['Cloak'] == 0]['Mischief']\n",
    "group1 = data[data['Cloak'] == 1]['Mischief']\n",
    "\n",
    "# Shapiro-Wilk Test\n",
    "shapiro_group0 = shapiro(group0)\n",
    "shapiro_group1 = shapiro(group1)\n",
    "print(\"\\nAssumption 5: Test for Normality (Shapiro-Wilk)\")\n",
    "print(f\"Without Cloak (W={shapiro_group0[0]:.3f}, p={shapiro_group0[1]:.3f})\")\n",
    "print(f\"With Cloak (W={shapiro_group1[0]:.3f}, p={shapiro_group1[1]:.3f})\")"
   ]
  },
  {
   "cell_type": "markdown",
   "id": "63eff44f-850d-49c7-a550-1cb741f861b7",
   "metadata": {},
   "source": [
    "The data is regularly distributed, which is the null hypothesis for both groups in the Shapiro-Wilk test. The data is roughly regularly distributed if the p-value is higher than 0.05, which means that the null hypothesis cannot be rejected. On the other hand, it indicates a departure from normalcy if the p-value is less than or equal to 0.05.\n"
   ]
  },
  {
   "cell_type": "markdown",
   "id": "7273e6cb-7aba-43ba-bd44-a0c27e735d18",
   "metadata": {},
   "source": [
    "#### Computation"
   ]
  },
  {
   "cell_type": "markdown",
   "id": "250fcbcc-7e27-4cac-9da3-fe1991820dc0",
   "metadata": {},
   "source": [
    "Independent Samples T-Test "
   ]
  },
  {
   "cell_type": "code",
   "execution_count": 169,
   "id": "38d29c7c-e76f-4304-a07d-0aeb55165863",
   "metadata": {
    "scrolled": true
   },
   "outputs": [
    {
     "name": "stdout",
     "output_type": "stream",
     "text": [
      "\n",
      "Mischief\n",
      "t-value and p-value, respectively: Ttest_indResult(statistic=-1.713459383965147, pvalue=0.10068634487481125)\n",
      "Degrees of Freedom: 22\n",
      "Mean Difference: -1.25\n",
      "Standard error of the mean difference: 0.730\n",
      "\n",
      "95% Confidence Interval of Mean Difference:\n",
      "Margin of Error: 1.5\n",
      "95% confidence interval: 2.1 \n",
      "Lower: -2.763\n",
      "Upper: 0.263\n"
     ]
    }
   ],
   "source": [
    "# Separating the groups\n",
    "group_without_cloak = data[data['Cloak'] == 0]['Mischief']\n",
    "group_with_cloak = data[data['Cloak'] == 1]['Mischief']\n",
    "\n",
    "# Independent Samples T-Test\n",
    "t_test = ttest_ind(group_without_cloak, group_with_cloak)\n",
    "\n",
    "# Mean difference\n",
    "mean_diff =  group_without_cloak.mean() - group_with_cloak.mean() \n",
    "# Calculate the standard error of the difference in means\n",
    "se_diff_means = np.sqrt((std_without_cloak**2 / n_without_cloak) + (std_with_cloak**2 / n_with_cloak))\n",
    "# Degrees of Freedom\n",
    "df = len(group_without_cloak) + len(group_with_cloak) - 2\n",
    "\n",
    "# Calculate the mean and standard deviation of each group\n",
    "mean_without_cloak = group_without_cloak.mean()\n",
    "mean_with_cloak = group_with_cloak.mean()\n",
    "std_without_cloak = group_without_cloak.std()\n",
    "std_with_cloak = group_with_cloak.std()\n",
    "\n",
    "# Number of observations in each group\n",
    "n_without_cloak = len(group_without_cloak)\n",
    "n_with_cloak = len(group_with_cloak)\n",
    "\n",
    "# Calculate the 95% confidence interval\n",
    "confidence_level = 0.95\n",
    "con_level = stats.t.ppf((1 + confidence_level) / 2, df)\n",
    "\n",
    "# Margin of Error\n",
    "margin_of_error = t_critical * se_diff_means\n",
    "\n",
    "# Calculate the confidence interval for the mean difference\n",
    "mean_difference = mean_without_cloak - mean_with_cloak\n",
    "ci_lower = mean_difference - margin_of_error\n",
    "ci_upper = mean_difference + margin_of_error\n",
    "\n",
    "print()\n",
    "print(\"Mischief\")\n",
    "print(f\"t-value and p-value, respectively: {t_test}\")\n",
    "print(f\"Degrees of Freedom: {df}\")\n",
    "print(f\"Mean Difference: {mean_diff}\")\n",
    "print(f\"Standard error of the mean difference: {se_diff_means:.3f}\")\n",
    "print()\n",
    "print(\"95% Confidence Interval of Mean Difference:\")\n",
    "print(f\"Margin of Error: {margin_of_error:.1f}\")\n",
    "print(f\"95% confidence interval: {con_level:.1f} \")\n",
    "print(f\"Lower: {ci_lower:.3f}\")\n",
    "print(f\"Upper: {ci_upper:.3f}\")"
   ]
  },
  {
   "cell_type": "code",
   "execution_count": 109,
   "id": "a2bee634-ce50-4afd-8412-82f835a6585c",
   "metadata": {},
   "outputs": [
    {
     "name": "stdout",
     "output_type": "stream",
     "text": [
      "\n",
      "Independent Samples T-Test (t=-1.713, p=0.101)\n",
      "Conclusion:\n",
      "The result is not statistically significant; we fail to reject the null hypothesis.\n"
     ]
    }
   ],
   "source": [
    "# Independent Samples T-Test\n",
    "t_test = ttest_ind(group0, group1)\n",
    "print(f\"\\nIndependent Samples T-Test (t={t_test[0]:.3f}, p={t_test[1]:.3f})\")\n",
    "print(\"Conclusion:\")\n",
    "if t_test[1] > 0.05:\n",
    "    print(\"The result is not statistically significant; we fail to reject the null hypothesis.\")\n",
    "else:\n",
    "    print(\"The result is statistically significant; we reject the null hypothesis.\")"
   ]
  },
  {
   "cell_type": "markdown",
   "id": "f729d93c-d1bc-4493-9236-3a9e944bc121",
   "metadata": {},
   "source": [
    "The result of the independent samples t-test computation is displayed. There is no reason to reject the null hypothesis based on the data because the group differences are not statistically significant at the.05 level."
   ]
  },
  {
   "cell_type": "code",
   "execution_count": null,
   "id": "47b1f20a-0eef-43d7-a866-b50e9496a9cd",
   "metadata": {},
   "outputs": [],
   "source": []
  }
 ],
 "metadata": {
  "kernelspec": {
   "display_name": "Python 3 (ipykernel)",
   "language": "python",
   "name": "python3"
  },
  "language_info": {
   "codemirror_mode": {
    "name": "ipython",
    "version": 3
   },
   "file_extension": ".py",
   "mimetype": "text/x-python",
   "name": "python",
   "nbconvert_exporter": "python",
   "pygments_lexer": "ipython3",
   "version": "3.11.4"
  }
 },
 "nbformat": 4,
 "nbformat_minor": 5
}
