{
 "cells": [
  {
   "cell_type": "markdown",
   "id": "2873bcc8-e2b2-429b-af4d-ce9afec258ad",
   "metadata": {},
   "source": [
    "# Formative Assessment 8\n",
    "## Statistical Theory"
   ]
  },
  {
   "cell_type": "markdown",
   "id": "d6061c2c-cff3-419b-a059-10ad98366b37",
   "metadata": {},
   "source": [
    "Do a complete data analysis for PlantGrowth in {datasets} package in R using a one-way ANOVA (1B) and provide a complete report in APA style.\n",
    "\n",
    "Null hypothesis: There is no significant difference on weight between treatment groups."
   ]
  },
  {
   "cell_type": "markdown",
   "id": "7acb7b1c-2976-4d59-b7e9-771342a06111",
   "metadata": {},
   "source": [
    "# Introduction\n",
    "\n",
    "The means of two or more independent (unrelated) groups are compared to see if there are any statistically significant differences using the one-way analysis of variance (ANOVA). \n",
    "\n",
    "When comparing the means of the groups you are interested in, the one-way ANOVA determines whether any of those means differ from one another statistically substantially. It specifically examines the null hypothesis\n",
    "\n",
    "# Null and alternative hypotheses\n",
    "The null hypothesis for a one-way analysis of variance is:\n",
    "\n",
    "$ H_0: \\mu_1 = \\mu_2 ... = \\mu_k $\n",
    "\n",
    "$ H_A $ : at least one group population mean is different (i.e., they are not all equal)\n",
    "\n",
    "where k is the number of groups and µ is the group mean. However, we adopt the alternative hypothesis (HA), which states that there are at least two group means that differ from one another statistically significantly, if the one-way ANOVA yields a statistically significant result."
   ]
  },
  {
   "cell_type": "markdown",
   "id": "495056a0-0af5-4a41-927b-e708e8b79b30",
   "metadata": {},
   "source": [
    "# Assumptions\n",
    "**Assumption 1** : You have one dependent variable that is measured at the continuous level.\n",
    "\n",
    "**Assumption 2**: You have one independent variable that consists of three or more categorical, independent groups. \n",
    "\n",
    "**Assumption 3**: You should have independence of observations, which means that there is no relationship between the observations in each group of the independent variable or among the groups themselves. \n",
    "\n",
    "**Assumption 4**: There should be no significant outliers in the three or more groups of your independent variable in terms of the dependent variable.\n",
    "\n",
    "**Assumption 5**: Your dependent variable should be approximately normally distributed for each group of the independent variable.\n",
    "\n",
    "**Assumption 6**: You have homogeneity of variances (i.e., the variance of the dependent variable is equal in each group of your independent variable)."
   ]
  },
  {
   "cell_type": "markdown",
   "id": "5891db13-2f4e-4c36-9830-f9bd21b2ace8",
   "metadata": {},
   "source": [
    "# Data Set and Problem\n",
    "A researcher is trying to figure out how different treatment groups affect plant development. The researcher planted a number of plants and assessed their growth following various treatments in order to test this theory. In accordance with the sort of therapy they received, the plants were split into three groups: a control group (no treatment), a treatment 1 (trt1) group, and a treatment 2 (trt2) group. The group, an independent variable, was made up of these three groupings.\n",
    "\n",
    "Each plant's weight in grams after a predetermined amount of time was used to gauge its growth. Higher weights indicated stronger growth, and this measurement measured the plant's overall growth. The name of this dependent variable was weight.\n",
    "\n",
    "The researcher intends to know if the sort of treatment has an impact on plant development (as determined by weight). The researcher specifically wants to know if there are any notable differences in the mean weight across the three treatment groups.\n"
   ]
  },
  {
   "cell_type": "markdown",
   "id": "eaf4f587-a034-4825-ad44-cccee1da63dd",
   "metadata": {},
   "source": [
    "# Data Analysis"
   ]
  },
  {
   "cell_type": "markdown",
   "id": "56575168-e6a8-4d1f-b2b4-da3a55e9a07e",
   "metadata": {},
   "source": [
    "First, I used R to extract/get the data from the packages in R, it will give us a csv file containing all of the data in the package and the csv will redirect to the provided directory in the code\n",
    "\n",
    "Code in R to extract/get the data:\n",
    "\n",
    "<code>write.csv(PlantGrowth, \"C:/Users/YourUsername/Documents/PlantGrowth.csv\", row.names = FALSE)</code>"
   ]
  },
  {
   "cell_type": "markdown",
   "id": "162648f1-a456-4d70-bd89-35092ab7aeec",
   "metadata": {},
   "source": [
    "Now we have the dataset, we can now proceed with the data analysis"
   ]
  },
  {
   "cell_type": "markdown",
   "id": "2ffd3b93-d68a-4410-874f-d012841ea0c9",
   "metadata": {},
   "source": [
    "Import necessary libraries"
   ]
  },
  {
   "cell_type": "code",
   "execution_count": 21,
   "id": "4011bd6a-5f6f-40c5-adf1-e4f54a2872f0",
   "metadata": {},
   "outputs": [],
   "source": [
    "import pandas as pd\n",
    "import numpy as np\n",
    "import seaborn as sns\n",
    "import matplotlib.pyplot as plt\n",
    "import scipy.stats as stats\n",
    "from statsmodels.stats.multicomp import pairwise_tukeyhsd\n",
    "import statsmodels.api as sm\n",
    "from statsmodels.formula.api import ols"
   ]
  },
  {
   "cell_type": "code",
   "execution_count": 3,
   "id": "7ef35b87-dd65-43be-a73d-7d1b7963a264",
   "metadata": {},
   "outputs": [
    {
     "data": {
      "text/html": [
       "<div>\n",
       "<style scoped>\n",
       "    .dataframe tbody tr th:only-of-type {\n",
       "        vertical-align: middle;\n",
       "    }\n",
       "\n",
       "    .dataframe tbody tr th {\n",
       "        vertical-align: top;\n",
       "    }\n",
       "\n",
       "    .dataframe thead th {\n",
       "        text-align: right;\n",
       "    }\n",
       "</style>\n",
       "<table border=\"1\" class=\"dataframe\">\n",
       "  <thead>\n",
       "    <tr style=\"text-align: right;\">\n",
       "      <th></th>\n",
       "      <th>weight</th>\n",
       "      <th>group</th>\n",
       "    </tr>\n",
       "  </thead>\n",
       "  <tbody>\n",
       "    <tr>\n",
       "      <th>0</th>\n",
       "      <td>4.17</td>\n",
       "      <td>ctrl</td>\n",
       "    </tr>\n",
       "    <tr>\n",
       "      <th>1</th>\n",
       "      <td>5.58</td>\n",
       "      <td>ctrl</td>\n",
       "    </tr>\n",
       "    <tr>\n",
       "      <th>2</th>\n",
       "      <td>5.18</td>\n",
       "      <td>ctrl</td>\n",
       "    </tr>\n",
       "    <tr>\n",
       "      <th>3</th>\n",
       "      <td>6.11</td>\n",
       "      <td>ctrl</td>\n",
       "    </tr>\n",
       "    <tr>\n",
       "      <th>4</th>\n",
       "      <td>4.50</td>\n",
       "      <td>ctrl</td>\n",
       "    </tr>\n",
       "    <tr>\n",
       "      <th>5</th>\n",
       "      <td>4.61</td>\n",
       "      <td>ctrl</td>\n",
       "    </tr>\n",
       "    <tr>\n",
       "      <th>6</th>\n",
       "      <td>5.17</td>\n",
       "      <td>ctrl</td>\n",
       "    </tr>\n",
       "    <tr>\n",
       "      <th>7</th>\n",
       "      <td>4.53</td>\n",
       "      <td>ctrl</td>\n",
       "    </tr>\n",
       "    <tr>\n",
       "      <th>8</th>\n",
       "      <td>5.33</td>\n",
       "      <td>ctrl</td>\n",
       "    </tr>\n",
       "    <tr>\n",
       "      <th>9</th>\n",
       "      <td>5.14</td>\n",
       "      <td>ctrl</td>\n",
       "    </tr>\n",
       "    <tr>\n",
       "      <th>10</th>\n",
       "      <td>4.81</td>\n",
       "      <td>trt1</td>\n",
       "    </tr>\n",
       "    <tr>\n",
       "      <th>11</th>\n",
       "      <td>4.17</td>\n",
       "      <td>trt1</td>\n",
       "    </tr>\n",
       "    <tr>\n",
       "      <th>12</th>\n",
       "      <td>4.41</td>\n",
       "      <td>trt1</td>\n",
       "    </tr>\n",
       "    <tr>\n",
       "      <th>13</th>\n",
       "      <td>3.59</td>\n",
       "      <td>trt1</td>\n",
       "    </tr>\n",
       "    <tr>\n",
       "      <th>14</th>\n",
       "      <td>5.87</td>\n",
       "      <td>trt1</td>\n",
       "    </tr>\n",
       "    <tr>\n",
       "      <th>15</th>\n",
       "      <td>3.83</td>\n",
       "      <td>trt1</td>\n",
       "    </tr>\n",
       "    <tr>\n",
       "      <th>16</th>\n",
       "      <td>6.03</td>\n",
       "      <td>trt1</td>\n",
       "    </tr>\n",
       "    <tr>\n",
       "      <th>17</th>\n",
       "      <td>4.89</td>\n",
       "      <td>trt1</td>\n",
       "    </tr>\n",
       "    <tr>\n",
       "      <th>18</th>\n",
       "      <td>4.32</td>\n",
       "      <td>trt1</td>\n",
       "    </tr>\n",
       "    <tr>\n",
       "      <th>19</th>\n",
       "      <td>4.69</td>\n",
       "      <td>trt1</td>\n",
       "    </tr>\n",
       "    <tr>\n",
       "      <th>20</th>\n",
       "      <td>6.31</td>\n",
       "      <td>trt2</td>\n",
       "    </tr>\n",
       "    <tr>\n",
       "      <th>21</th>\n",
       "      <td>5.12</td>\n",
       "      <td>trt2</td>\n",
       "    </tr>\n",
       "    <tr>\n",
       "      <th>22</th>\n",
       "      <td>5.54</td>\n",
       "      <td>trt2</td>\n",
       "    </tr>\n",
       "    <tr>\n",
       "      <th>23</th>\n",
       "      <td>5.50</td>\n",
       "      <td>trt2</td>\n",
       "    </tr>\n",
       "    <tr>\n",
       "      <th>24</th>\n",
       "      <td>5.37</td>\n",
       "      <td>trt2</td>\n",
       "    </tr>\n",
       "    <tr>\n",
       "      <th>25</th>\n",
       "      <td>5.29</td>\n",
       "      <td>trt2</td>\n",
       "    </tr>\n",
       "    <tr>\n",
       "      <th>26</th>\n",
       "      <td>4.92</td>\n",
       "      <td>trt2</td>\n",
       "    </tr>\n",
       "    <tr>\n",
       "      <th>27</th>\n",
       "      <td>6.15</td>\n",
       "      <td>trt2</td>\n",
       "    </tr>\n",
       "    <tr>\n",
       "      <th>28</th>\n",
       "      <td>5.80</td>\n",
       "      <td>trt2</td>\n",
       "    </tr>\n",
       "    <tr>\n",
       "      <th>29</th>\n",
       "      <td>5.26</td>\n",
       "      <td>trt2</td>\n",
       "    </tr>\n",
       "  </tbody>\n",
       "</table>\n",
       "</div>"
      ],
      "text/plain": [
       "    weight group\n",
       "0     4.17  ctrl\n",
       "1     5.58  ctrl\n",
       "2     5.18  ctrl\n",
       "3     6.11  ctrl\n",
       "4     4.50  ctrl\n",
       "5     4.61  ctrl\n",
       "6     5.17  ctrl\n",
       "7     4.53  ctrl\n",
       "8     5.33  ctrl\n",
       "9     5.14  ctrl\n",
       "10    4.81  trt1\n",
       "11    4.17  trt1\n",
       "12    4.41  trt1\n",
       "13    3.59  trt1\n",
       "14    5.87  trt1\n",
       "15    3.83  trt1\n",
       "16    6.03  trt1\n",
       "17    4.89  trt1\n",
       "18    4.32  trt1\n",
       "19    4.69  trt1\n",
       "20    6.31  trt2\n",
       "21    5.12  trt2\n",
       "22    5.54  trt2\n",
       "23    5.50  trt2\n",
       "24    5.37  trt2\n",
       "25    5.29  trt2\n",
       "26    4.92  trt2\n",
       "27    6.15  trt2\n",
       "28    5.80  trt2\n",
       "29    5.26  trt2"
      ]
     },
     "execution_count": 3,
     "metadata": {},
     "output_type": "execute_result"
    }
   ],
   "source": [
    "df = pd.read_csv(r\"C:\\Users\\spike\\Documents\\PlantGrowth.csv\")\n",
    "\n",
    "df.head(30)"
   ]
  },
  {
   "cell_type": "markdown",
   "id": "907b53dc-4d52-4598-af7a-b82eba108bd9",
   "metadata": {},
   "source": [
    "### Assumption 1"
   ]
  },
  {
   "cell_type": "markdown",
   "id": "802c036f-c70e-4c24-b3c9-ea0464a5a182",
   "metadata": {},
   "source": [
    "This is a conceptual check since it confirms the continuous nature of the dependent variable. Weight is a continuous variable with interval-level measurements."
   ]
  },
  {
   "cell_type": "markdown",
   "id": "9ad7583e-7a6d-4c6f-8fa2-2db28177ba20",
   "metadata": {},
   "source": [
    "### Assumption 2"
   ]
  },
  {
   "cell_type": "markdown",
   "id": "2ad2b70d-7976-44bc-ae6e-67b3575e47dc",
   "metadata": {},
   "source": [
    "This is a conceptual check as well. However, we can use this code to confirm the distinct categories in the group column:"
   ]
  },
  {
   "cell_type": "code",
   "execution_count": 6,
   "id": "0f5374f1-cf2a-4dd6-9964-6e606248f3ab",
   "metadata": {},
   "outputs": [
    {
     "name": "stdout",
     "output_type": "stream",
     "text": [
      "Groups: ['ctrl' 'trt1' 'trt2']\n"
     ]
    }
   ],
   "source": [
    "print(\"Groups:\", df['group'].unique())"
   ]
  },
  {
   "cell_type": "markdown",
   "id": "1c59e9b4-17fc-42e4-afec-486feb212ab5",
   "metadata": {},
   "source": [
    "The group variable has three independent categories: ctrl, trt1, and trt2."
   ]
  },
  {
   "cell_type": "markdown",
   "id": "4a432feb-0e36-4e03-8393-aba365226cfa",
   "metadata": {},
   "source": [
    "### Assumption 3"
   ]
  },
  {
   "cell_type": "markdown",
   "id": "d4e7baca-1d43-4469-91f8-8dad4630f9da",
   "metadata": {},
   "source": [
    "Since the observations in each group of the independent variable and the groups themselves are unrelated to one another, each observation is independent of the others. To put it another way, every group stands for a separate treatment."
   ]
  },
  {
   "cell_type": "markdown",
   "id": "5ff98fb1-191c-4c5b-94cc-d292082e8c4c",
   "metadata": {},
   "source": [
    "### Assumption 4"
   ]
  },
  {
   "cell_type": "code",
   "execution_count": 8,
   "id": "e18cf229-fef7-42f3-8e09-a46112abd733",
   "metadata": {},
   "outputs": [
    {
     "data": {
      "image/png": "[encoded data removed]",
      "text/plain": [
       "<Figure size 800x600 with 1 Axes>"
      ]
     },
     "metadata": {},
     "output_type": "display_data"
    }
   ],
   "source": [
    "plt.figure(figsize=(8, 6))\n",
    "sns.boxplot(x='group', y='weight', data=df)\n",
    "plt.title('Boxplot of Plant Weights by Treatment Group')\n",
    "plt.xlabel('Treatment Group')\n",
    "plt.ylabel('Plant Weight')\n",
    "plt.show()"
   ]
  },
  {
   "cell_type": "markdown",
   "id": "ccdbf14f-543b-46fa-9080-cfb268e5b0d0",
   "metadata": {},
   "source": [
    "### Interpretation"
   ]
  },
  {
   "cell_type": "markdown",
   "id": "35ba9af3-1551-409e-8168-b9076d2cc7da",
   "metadata": {},
   "source": [
    "\"Boxplot of Plant Weights by Treatment Group\" is a boxplot that shows the distribution of plant weights in the three treatment groups (Control, Treatment 1, and Treatment 2). Below is a summary of what we see:\n",
    "\n",
    "1. Median and Interquartile Range (IQR):\n",
    "- The first quartile (Q1, 25th percentile) is the box's lower boundary, and the third quartile (Q3, 75th percentile) is the box's upper boundary. Each box indicates the interquartile range (IQR).\n",
    "- The median plant weight for each treatment group is shown by the horizontal line inside each box.\n",
    "\n",
    "2. Whiskers:\n",
    "- The whiskers reach up to 1.5 times the IQR from the box. This range captures the majority of observations and reflects typical variability in the data.\n",
    "\n",
    "3. Outliers:\n",
    "- Outliers are points that are shown separately and are not part of the whiskers. We see outliers in one treatment group in this plot.\n",
    "- A few plants with weights that are noticeably different from the rest of the plants in that group may be identified as outliers. These outliers may have an impact on the robustness of the test results and the assumption of normalcy in the context of an ANOVA test.\n",
    "\n",
    "4. Group Comparison:\n",
    "- There may be variations in the plant weights of the control, treatment 1, and treatment 2 groups, as indicated by the apparent disparities in the median weight and overall spread across the groups. This variance supports the requirement that an ANOVA test be used in order to evaluate these changes statistically.\n",
    "\n",
    "Consideration for the analysis:\n",
    "1. ANOVA Assumptions:\n",
    "- The assumptions of normality and homogeneity of variances, in particular, may be affected by outliers. It is advised to verify these assumptions more thoroughly (for example, by applying Levene's test for homogeneity of variances and the Shapiro-Wilk test for normality).\n",
    "   \n",
    "2. Managing Outliers:\n",
    "There are several ways you can deal with outliers:\n",
    "- Leave them alone, particularly if they represent natural variability and are valid values.\n",
    "- To lessen the influence of outliers, apply modifications to the data, such as square root or log transformations.\n",
    "- If there are a lot of outliers or if there are significant assumptions broken, think about using a robust ANOVA or a non-parametric test (such the Kruskal-Wallis test). But since we only have 2 outliers visible, we assume that it will not greatly impact our analysis.\n"
   ]
  },
  {
   "cell_type": "markdown",
   "id": "3c26e755-0529-40dd-8d4b-513f8b1a6e81",
   "metadata": {},
   "source": [
    "### Assumption 5"
   ]
  },
  {
   "cell_type": "code",
   "execution_count": 10,
   "id": "cf3c51a2-7600-47f6-86a2-9e1217a83029",
   "metadata": {},
   "outputs": [
    {
     "name": "stdout",
     "output_type": "stream",
     "text": [
      "Descriptive Statistics by Group:\n",
      "       count   mean       std   min     25%    50%     75%   max\n",
      "group                                                           \n",
      "ctrl    10.0  5.032  0.583091  4.17  4.5500  5.155  5.2925  6.11\n",
      "trt1    10.0  4.661  0.793676  3.59  4.2075  4.550  4.8700  6.03\n",
      "trt2    10.0  5.526  0.442573  4.92  5.2675  5.435  5.7350  6.31\n",
      "\n",
      "Shapiro-Wilk test for group 'ctrl': p-value = 0.7474744915962219\n",
      "Shapiro-Wilk test for group 'trt1': p-value = 0.451945960521698\n",
      "Shapiro-Wilk test for group 'trt2': p-value = 0.5642533898353577\n",
      "\n",
      "Group 'ctrl': Fail to reject the null hypothesis - data is normally distributed.\n",
      "Group 'trt1': Fail to reject the null hypothesis - data is normally distributed.\n",
      "Group 'trt2': Fail to reject the null hypothesis - data is normally distributed.\n"
     ]
    }
   ],
   "source": [
    "descriptive_stats = df.groupby('group')['weight'].describe()\n",
    "print(\"Descriptive Statistics by Group:\")\n",
    "print(descriptive_stats)\n",
    "print()\n",
    "\n",
    "shapiro_results = {}\n",
    "for group in df['group'].unique():\n",
    "    stat, p_value = stats.shapiro(df[df['group'] == group]['weight'])\n",
    "    shapiro_results[group] = p_value\n",
    "    print(f\"Shapiro-Wilk test for group '{group}': p-value = {p_value}\")\n",
    "    \n",
    "print()\n",
    "\n",
    "alpha = 0.05\n",
    "for group, p_value in shapiro_results.items():\n",
    "    if p_value < alpha:\n",
    "        print(f\"Group '{group}': Reject the null hypothesis - data is not normally distributed.\")\n",
    "    else:\n",
    "        print(f\"Group '{group}': Fail to reject the null hypothesis - data is normally distributed.\")"
   ]
  },
  {
   "cell_type": "markdown",
   "id": "463b35e8-8b5b-453d-b394-aef0ccdb02df",
   "metadata": {},
   "source": [
    "### Assumption 6"
   ]
  },
  {
   "cell_type": "code",
   "execution_count": 18,
   "id": "b543d7d0-b357-41c8-9d63-8ab4ed91563a",
   "metadata": {},
   "outputs": [
    {
     "name": "stdout",
     "output_type": "stream",
     "text": [
      "Levene’s Test p-value: 0.341\n"
     ]
    }
   ],
   "source": [
    "levene_test = stats.levene(\n",
    "    df[df['group'] == 'ctrl']['weight'],\n",
    "    df[df['group'] == 'trt1']['weight'],\n",
    "    df[df['group'] == 'trt2']['weight']\n",
    ")\n",
    "LT_value = levene_test.pvalue\n",
    "\n",
    "print(f\"Levene’s Test p-value: {LT_value:.3f}\")"
   ]
  },
  {
   "cell_type": "markdown",
   "id": "3c262a76-c0c6-4538-9b5b-23c17d9ab182",
   "metadata": {},
   "source": [
    "There was homogeneity of variances of the dependent variable, as assessed by the levene's test of homogeneity of variances, p = 0.341."
   ]
  },
  {
   "cell_type": "markdown",
   "id": "1872f91e-5ac9-4186-afc3-53af78448c0e",
   "metadata": {},
   "source": [
    "# ANOVA"
   ]
  },
  {
   "cell_type": "code",
   "execution_count": 14,
   "id": "ae2f74d3-9cb8-4171-a56b-520490aac8a7",
   "metadata": {},
   "outputs": [
    {
     "name": "stdout",
     "output_type": "stream",
     "text": [
      "One-Way ANOVA Results:\n",
      "F-statistic: 4.846\n",
      "p-value: 0.016\n",
      "Reject the null hypothesis: There is a significant difference between group means.\n"
     ]
    }
   ],
   "source": [
    "anova_results = stats.f_oneway(\n",
    "    df[df['group'] == 'ctrl']['weight'],\n",
    "    df[df['group'] == 'trt1']['weight'],\n",
    "    df[df['group'] == 'trt2']['weight']\n",
    ")\n",
    "\n",
    "print(\"One-Way ANOVA Results:\")\n",
    "print(f\"F-statistic: {anova_results.statistic:.3f}\")\n",
    "print(f\"p-value: {anova_results.pvalue:.3f}\")\n",
    "\n",
    "alpha = 0.05\n",
    "if anova_results.pvalue < alpha:\n",
    "    print(\"Reject the null hypothesis: There is a significant difference between group means.\")\n",
    "else:\n",
    "    print(\"Fail to reject the null hypothesis: No significant difference between group means.\")"
   ]
  },
  {
   "cell_type": "markdown",
   "id": "3ac86de4-ef5a-4875-b19f-10275d88e8a4",
   "metadata": {},
   "source": [
    "# Post Hoc Tests"
   ]
  },
  {
   "cell_type": "code",
   "execution_count": 25,
   "id": "a52c4ede-fe1e-4c73-8792-1f350aa789fa",
   "metadata": {},
   "outputs": [
    {
     "name": "stdout",
     "output_type": "stream",
     "text": [
      "ANOVA Table:\n",
      "             sum_sq    df         F   PR(>F)\n",
      "C(group)   3.76634   2.0  4.846088  0.01591\n",
      "Residual  10.49209  27.0       NaN      NaN\n",
      "Multiple Comparison of Means - Tukey HSD, FWER=0.05\n",
      "===================================================\n",
      "group1 group2 meandiff p-adj   lower  upper  reject\n",
      "---------------------------------------------------\n",
      "  ctrl   trt1   -0.371 0.3909 -1.0622 0.3202  False\n",
      "  ctrl   trt2    0.494  0.198 -0.1972 1.1852  False\n",
      "  trt1   trt2    0.865  0.012  0.1738 1.5562   True\n",
      "---------------------------------------------------\n",
      "Tukey HSD Post Hoc Test Summary:\n",
      "Multiple Comparison of Means - Tukey HSD, FWER=0.05\n",
      "===================================================\n",
      "group1 group2 meandiff p-adj   lower  upper  reject\n",
      "---------------------------------------------------\n",
      "  ctrl   trt1   -0.371 0.3909 -1.0622 0.3202  False\n",
      "  ctrl   trt2    0.494  0.198 -0.1972 1.1852  False\n",
      "  trt1   trt2    0.865  0.012  0.1738 1.5562   True\n",
      "---------------------------------------------------\n"
     ]
    }
   ],
   "source": [
    "# Step 2: Perform one-way ANOVA to ensure there is a significant difference\n",
    "model = ols('weight ~ C(group)', data=df).fit()\n",
    "anova_table = sm.stats.anova_lm(model, typ=2)\n",
    "print(\"ANOVA Table:\\n\", anova_table)\n",
    "\n",
    "# Step 3: Conduct Tukey HSD Post Hoc Test\n",
    "tukey = pairwise_tukeyhsd(endog=df['weight'], groups=df['group'], alpha=0.05)\n",
    "print(tukey)\n",
    "\n",
    "# Optional: Format the output similar to JASP output\n",
    "# Display the summary table\n",
    "print(\"Tukey HSD Post Hoc Test Summary:\")\n",
    "print(tukey.summary())"
   ]
  },
  {
   "cell_type": "markdown",
   "id": "e3456d2b-a813-4c5c-b107-907246c46164",
   "metadata": {},
   "source": [
    "# Report"
   ]
  },
  {
   "cell_type": "markdown",
   "id": "2e895f21-94cb-4b57-83d7-4ce391d9340d",
   "metadata": {},
   "source": [
    "A one-way ANOVA was conducted to determine if the there are any difference between the plant growth with different treatments. Treatments are classified into 3 groups, a control group (no treatment), a treatment 1 (trt1) group, and a treatment 2 (trt2) group. A visible outliers was detected but it is only 2 outliers so we assume that it will not greatly impact the data analysis,so assessed by Shapiro-Wilk Test data was normally distributed for each group (p > 0.05); and there was homogeneity of variances, as assessed by Levene's test of homogeneity of variances (p = .341). Data is presented as mean ± standard deviation. For the Descriptive Statistics, The mean plant weight is highest in Treatment 2 (5.526), followed by the control group (5.032) and Treatment 1(4.661). Treatment 1 has the highest variability in plant weights, meaning that plant weights within this group vary more widely. Treatment 2, with the lowest SD, has plant weights that are more consistently close to the group mean.\n",
    "\n",
    "4.846 is the F-statistic. This figure shows the proportion of variance within groups to variance between group means. In general, a larger F-statistic indicates that the variability within groups is smaller than the difference between group means. This test's p-value is 0.016. If the null hypothesis (i.e., that all group means were genuinely equal) were true, this value represents the likelihood of seeing the discrepancies in group means, or something more extreme. We reject the null hypothesis because the p-value (0.016) is below the usual significance level of 0.05. This implies that at least two of the treatment groups have mean plant weights that differ statistically significantly from one another.\n",
    "\n",
    "In order to identify which particular group means are significantly different from one another, a statistically significant ANOVA result is followed by the Tukey HSD (Honestly Significant Difference) post hoc test.\n",
    "\n",
    "Significant Difference: There is a statistically significant difference in plant weight between Treatment 1 and Treatment 2 (p = 0.012), with Treatment 2 having a higher mean weight.\n",
    "\n",
    "No Significant Difference: There is no statistically significant difference in plant weight between the control and Treatment 1, nor between the control and Treatment 2.\n",
    "\n",
    "These results suggest that only the comparison between Treatment 1 and Treatment 2 shows a meaningful difference in plant weights, with plants in Treatment 2 growing more than those in Treatment 1."
   ]
  },
  {
   "cell_type": "code",
   "execution_count": null,
   "id": "37857f08-c933-4a4f-a662-22f164530b5d",
   "metadata": {},
   "outputs": [],
   "source": []
  }
 ],
 "metadata": {
  "kernelspec": {
   "display_name": "Python 3 (ipykernel)",
   "language": "python",
   "name": "python3"
  },
  "language_info": {
   "codemirror_mode": {
    "name": "ipython",
    "version": 3
   },
   "file_extension": ".py",
   "mimetype": "text/x-python",
   "name": "python",
   "nbconvert_exporter": "python",
   "pygments_lexer": "ipython3",
   "version": "3.11.4"
  }
 },
 "nbformat": 4,
 "nbformat_minor": 5
}
