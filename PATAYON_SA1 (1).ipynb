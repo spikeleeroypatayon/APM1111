{
 "cells": [
  {
   "cell_type": "markdown",
   "id": "45959aa2-d4fd-4a37-90e8-c64bd849f416",
   "metadata": {},
   "source": [
    "# Summative Assessment #1"
   ]
  },
  {
   "cell_type": "markdown",
   "id": "7d65f412-4421-42c9-aeea-94b0f11ce693",
   "metadata": {},
   "source": [
    "Statistical Theory"
   ]
  },
  {
   "cell_type": "markdown",
   "id": "b2954a80-636e-4423-b9ef-9f2c91d2e3ae",
   "metadata": {},
   "source": [
    "A study was undertaken to compare the mean time spent on cell phones by male and female college students per week. Fifty male and 50 female students were selected from Midwestern University and the number of hours per week spent talking on their cell phones determined. It is desired to test $ H_0: \\mu_1 = \\mu_2 $ versus $ H_1: \\mu_1 \\neq \\mu_2 $ based on these samples."
   ]
  },
  {
   "cell_type": "code",
   "execution_count": 69,
   "id": "7359b754-3820-4b8d-aba0-c55f9e176c11",
   "metadata": {},
   "outputs": [],
   "source": [
    "import numpy as np\n",
    "import pandas as pd\n",
    "import scipy.stats as stats\n",
    "from scipy import stats\n",
    "from scipy.stats import skew\n",
    "from scipy.stats import kurtosis\n",
    "import matplotlib.pyplot as plt\n",
    "import seaborn as sns"
   ]
  },
  {
   "cell_type": "markdown",
   "id": "dec9d452-bfae-4a33-998a-b4595cd4cb9e",
   "metadata": {},
   "source": [
    "This is the given data set:\n",
    "\n",
    "Hours spent talking on cellphone for males and females at Midwestern University"
   ]
  },
  {
   "cell_type": "code",
   "execution_count": 7,
   "id": "08408dfb-62d1-43e3-a18e-214d12ab3f2d",
   "metadata": {},
   "outputs": [
    {
     "data": {
      "text/html": [
       "<div>\n",
       "<style scoped>\n",
       "    .dataframe tbody tr th:only-of-type {\n",
       "        vertical-align: middle;\n",
       "    }\n",
       "\n",
       "    .dataframe tbody tr th {\n",
       "        vertical-align: top;\n",
       "    }\n",
       "\n",
       "    .dataframe thead th {\n",
       "        text-align: right;\n",
       "    }\n",
       "</style>\n",
       "<table border=\"1\" class=\"dataframe\">\n",
       "  <thead>\n",
       "    <tr style=\"text-align: right;\">\n",
       "      <th></th>\n",
       "      <th>Males</th>\n",
       "      <th>Females</th>\n",
       "    </tr>\n",
       "  </thead>\n",
       "  <tbody>\n",
       "    <tr>\n",
       "      <th>0</th>\n",
       "      <td>12</td>\n",
       "      <td>11</td>\n",
       "    </tr>\n",
       "    <tr>\n",
       "      <th>1</th>\n",
       "      <td>7</td>\n",
       "      <td>10</td>\n",
       "    </tr>\n",
       "    <tr>\n",
       "      <th>2</th>\n",
       "      <td>7</td>\n",
       "      <td>11</td>\n",
       "    </tr>\n",
       "    <tr>\n",
       "      <th>3</th>\n",
       "      <td>10</td>\n",
       "      <td>10</td>\n",
       "    </tr>\n",
       "    <tr>\n",
       "      <th>4</th>\n",
       "      <td>8</td>\n",
       "      <td>11</td>\n",
       "    </tr>\n",
       "    <tr>\n",
       "      <th>5</th>\n",
       "      <td>10</td>\n",
       "      <td>12</td>\n",
       "    </tr>\n",
       "    <tr>\n",
       "      <th>6</th>\n",
       "      <td>11</td>\n",
       "      <td>12</td>\n",
       "    </tr>\n",
       "    <tr>\n",
       "      <th>7</th>\n",
       "      <td>9</td>\n",
       "      <td>10</td>\n",
       "    </tr>\n",
       "    <tr>\n",
       "      <th>8</th>\n",
       "      <td>9</td>\n",
       "      <td>9</td>\n",
       "    </tr>\n",
       "    <tr>\n",
       "      <th>9</th>\n",
       "      <td>13</td>\n",
       "      <td>9</td>\n",
       "    </tr>\n",
       "    <tr>\n",
       "      <th>10</th>\n",
       "      <td>4</td>\n",
       "      <td>9</td>\n",
       "    </tr>\n",
       "    <tr>\n",
       "      <th>11</th>\n",
       "      <td>9</td>\n",
       "      <td>10</td>\n",
       "    </tr>\n",
       "    <tr>\n",
       "      <th>12</th>\n",
       "      <td>12</td>\n",
       "      <td>8</td>\n",
       "    </tr>\n",
       "    <tr>\n",
       "      <th>13</th>\n",
       "      <td>11</td>\n",
       "      <td>7</td>\n",
       "    </tr>\n",
       "    <tr>\n",
       "      <th>14</th>\n",
       "      <td>9</td>\n",
       "      <td>12</td>\n",
       "    </tr>\n",
       "    <tr>\n",
       "      <th>15</th>\n",
       "      <td>9</td>\n",
       "      <td>9</td>\n",
       "    </tr>\n",
       "    <tr>\n",
       "      <th>16</th>\n",
       "      <td>7</td>\n",
       "      <td>7</td>\n",
       "    </tr>\n",
       "    <tr>\n",
       "      <th>17</th>\n",
       "      <td>12</td>\n",
       "      <td>8</td>\n",
       "    </tr>\n",
       "    <tr>\n",
       "      <th>18</th>\n",
       "      <td>10</td>\n",
       "      <td>9</td>\n",
       "    </tr>\n",
       "    <tr>\n",
       "      <th>19</th>\n",
       "      <td>13</td>\n",
       "      <td>8</td>\n",
       "    </tr>\n",
       "    <tr>\n",
       "      <th>20</th>\n",
       "      <td>11</td>\n",
       "      <td>7</td>\n",
       "    </tr>\n",
       "    <tr>\n",
       "      <th>21</th>\n",
       "      <td>10</td>\n",
       "      <td>7</td>\n",
       "    </tr>\n",
       "    <tr>\n",
       "      <th>22</th>\n",
       "      <td>6</td>\n",
       "      <td>9</td>\n",
       "    </tr>\n",
       "    <tr>\n",
       "      <th>23</th>\n",
       "      <td>12</td>\n",
       "      <td>9</td>\n",
       "    </tr>\n",
       "    <tr>\n",
       "      <th>24</th>\n",
       "      <td>11</td>\n",
       "      <td>12</td>\n",
       "    </tr>\n",
       "    <tr>\n",
       "      <th>25</th>\n",
       "      <td>9</td>\n",
       "      <td>10</td>\n",
       "    </tr>\n",
       "    <tr>\n",
       "      <th>26</th>\n",
       "      <td>10</td>\n",
       "      <td>9</td>\n",
       "    </tr>\n",
       "    <tr>\n",
       "      <th>27</th>\n",
       "      <td>12</td>\n",
       "      <td>13</td>\n",
       "    </tr>\n",
       "    <tr>\n",
       "      <th>28</th>\n",
       "      <td>8</td>\n",
       "      <td>9</td>\n",
       "    </tr>\n",
       "    <tr>\n",
       "      <th>29</th>\n",
       "      <td>9</td>\n",
       "      <td>9</td>\n",
       "    </tr>\n",
       "    <tr>\n",
       "      <th>30</th>\n",
       "      <td>13</td>\n",
       "      <td>10</td>\n",
       "    </tr>\n",
       "    <tr>\n",
       "      <th>31</th>\n",
       "      <td>10</td>\n",
       "      <td>9</td>\n",
       "    </tr>\n",
       "    <tr>\n",
       "      <th>32</th>\n",
       "      <td>9</td>\n",
       "      <td>6</td>\n",
       "    </tr>\n",
       "    <tr>\n",
       "      <th>33</th>\n",
       "      <td>7</td>\n",
       "      <td>12</td>\n",
       "    </tr>\n",
       "    <tr>\n",
       "      <th>34</th>\n",
       "      <td>10</td>\n",
       "      <td>8</td>\n",
       "    </tr>\n",
       "    <tr>\n",
       "      <th>35</th>\n",
       "      <td>7</td>\n",
       "      <td>11</td>\n",
       "    </tr>\n",
       "    <tr>\n",
       "      <th>36</th>\n",
       "      <td>10</td>\n",
       "      <td>8</td>\n",
       "    </tr>\n",
       "    <tr>\n",
       "      <th>37</th>\n",
       "      <td>8</td>\n",
       "      <td>8</td>\n",
       "    </tr>\n",
       "    <tr>\n",
       "      <th>38</th>\n",
       "      <td>11</td>\n",
       "      <td>11</td>\n",
       "    </tr>\n",
       "    <tr>\n",
       "      <th>39</th>\n",
       "      <td>10</td>\n",
       "      <td>12</td>\n",
       "    </tr>\n",
       "    <tr>\n",
       "      <th>40</th>\n",
       "      <td>11</td>\n",
       "      <td>9</td>\n",
       "    </tr>\n",
       "    <tr>\n",
       "      <th>41</th>\n",
       "      <td>7</td>\n",
       "      <td>10</td>\n",
       "    </tr>\n",
       "    <tr>\n",
       "      <th>42</th>\n",
       "      <td>15</td>\n",
       "      <td>11</td>\n",
       "    </tr>\n",
       "    <tr>\n",
       "      <th>43</th>\n",
       "      <td>8</td>\n",
       "      <td>14</td>\n",
       "    </tr>\n",
       "    <tr>\n",
       "      <th>44</th>\n",
       "      <td>9</td>\n",
       "      <td>12</td>\n",
       "    </tr>\n",
       "    <tr>\n",
       "      <th>45</th>\n",
       "      <td>9</td>\n",
       "      <td>7</td>\n",
       "    </tr>\n",
       "    <tr>\n",
       "      <th>46</th>\n",
       "      <td>11</td>\n",
       "      <td>11</td>\n",
       "    </tr>\n",
       "    <tr>\n",
       "      <th>47</th>\n",
       "      <td>13</td>\n",
       "      <td>10</td>\n",
       "    </tr>\n",
       "    <tr>\n",
       "      <th>48</th>\n",
       "      <td>10</td>\n",
       "      <td>9</td>\n",
       "    </tr>\n",
       "    <tr>\n",
       "      <th>49</th>\n",
       "      <td>13</td>\n",
       "      <td>11</td>\n",
       "    </tr>\n",
       "  </tbody>\n",
       "</table>\n",
       "</div>"
      ],
      "text/plain": [
       "    Males  Females\n",
       "0      12       11\n",
       "1       7       10\n",
       "2       7       11\n",
       "3      10       10\n",
       "4       8       11\n",
       "5      10       12\n",
       "6      11       12\n",
       "7       9       10\n",
       "8       9        9\n",
       "9      13        9\n",
       "10      4        9\n",
       "11      9       10\n",
       "12     12        8\n",
       "13     11        7\n",
       "14      9       12\n",
       "15      9        9\n",
       "16      7        7\n",
       "17     12        8\n",
       "18     10        9\n",
       "19     13        8\n",
       "20     11        7\n",
       "21     10        7\n",
       "22      6        9\n",
       "23     12        9\n",
       "24     11       12\n",
       "25      9       10\n",
       "26     10        9\n",
       "27     12       13\n",
       "28      8        9\n",
       "29      9        9\n",
       "30     13       10\n",
       "31     10        9\n",
       "32      9        6\n",
       "33      7       12\n",
       "34     10        8\n",
       "35      7       11\n",
       "36     10        8\n",
       "37      8        8\n",
       "38     11       11\n",
       "39     10       12\n",
       "40     11        9\n",
       "41      7       10\n",
       "42     15       11\n",
       "43      8       14\n",
       "44      9       12\n",
       "45      9        7\n",
       "46     11       11\n",
       "47     13       10\n",
       "48     10        9\n",
       "49     13       11"
      ]
     },
     "execution_count": 7,
     "metadata": {},
     "output_type": "execute_result"
    }
   ],
   "source": [
    "males = [12,7,7,10,8,10,11,9,9,13,4,9,12,11,9,9,7,12,10,13,11,10,6,12,11,9,10,12,8,9,13,10,9,7,10,7,10,8,11,10,11,7,15,8,9,9,11,13,10,13]\n",
    "females = [11,10,11,10,11,12,12,10,9,9,9,10,8,7,12,9,7,8,9,8,7,7,9,9,12,10,9,13,9,9,10,9,6,12,8,11,8,8,11,12,9,10,11,14,12,7,11,10,9,11]\n",
    "\n",
    "data = pd.DataFrame({\n",
    "    'Males': males,\n",
    "    'Females': females\n",
    "})\n",
    "data"
   ]
  },
  {
   "cell_type": "markdown",
   "id": "12215bc2-c21e-4b18-99aa-646d6d406ff2",
   "metadata": {},
   "source": [
    "## (1) Rationale for Hypothesis Test"
   ]
  },
  {
   "cell_type": "markdown",
   "id": "d6117ef5-628c-4da9-b833-c5dec0d7d362",
   "metadata": {},
   "source": [
    "The primary objective of this study is to determine if there is a significant difference in the mean time spent on cell phones by male and female college students at Midwestern University. Knowing these variations can help with school regulations or initiatives to control screen time and encourage healthier technology use by offering insightful information about the social dynamics and communication patterns of students."
   ]
  },
  {
   "cell_type": "markdown",
   "id": "1363d04e-6e94-4bb8-9289-9377c229ffca",
   "metadata": {},
   "source": [
    "1. Defining the Research Question:"
   ]
  },
  {
   "cell_type": "markdown",
   "id": "a55235ea-d7a0-46ff-aa5a-1a2e2a1e014a",
   "metadata": {},
   "source": [
    "Do male and female college students spend different amounts of time talking on their cell phones per week?\n",
    "\n",
    "A statistical comparison of the average amount of time (in hours) that male and female students spend on their phones will be used to answer this issue."
   ]
  },
  {
   "cell_type": "markdown",
   "id": "39ba3d8b-5af3-4a26-a928-1b57351f3d82",
   "metadata": {},
   "source": [
    "2. Establishing Hypotheses:"
   ]
  },
  {
   "cell_type": "markdown",
   "id": "aac3bf5b-042a-4253-ab2a-a0e1a4c94ad6",
   "metadata": {},
   "source": [
    "We define the null and alternative hypotheses in order to compare the mean times:"
   ]
  },
  {
   "cell_type": "markdown",
   "id": "8a07034b-6c0f-4c9f-a53f-7588178e2e99",
   "metadata": {},
   "source": [
    "- Null Hypothesis ($H_0$): There is no difference in the mean time spent on cell phones by male and female students.\n",
    "\n",
    "  In other words: $H_0: \\mu_1 = \\mu_2 $ \n",
    "\n",
    "- Alternative Hypothesis ($ H_1 $): There is a difference in the mean time spent on cell phones by male and female students.\n",
    "\n",
    "  In other words: $H_0: \\mu_1 \\neq \\mu_2 $\n",
    "\n",
    "Where:\n",
    "- $ \\mu_1 $ represents the mean time spent on cell phones by male students.\n",
    "- $ \\mu_2 $ represents the mean time spent on cell phones by female students."
   ]
  },
  {
   "cell_type": "markdown",
   "id": "e31efa30-b9fc-413a-ad36-c4de6f0ca25e",
   "metadata": {},
   "source": [
    "3. Using the Appropriate Test:\n",
    "\n",
    "We have two independent samples, one for each gender, hence the two-sample t-test is the proper statistical test. The purpose of this test is to ascertain whether the means of two independent groups differ significantly from one another.\n",
    "\n",
    "The two-sample t-test is ideal because:\n",
    "\n",
    "- The data consists of interval measurements (number of hours).\n",
    "- The sample sizes are equal and reasonably large (n = 50 for both groups).\n",
    "- The test assumes that the two populations have equal variances, which can be verified with a variance test (if necessary)."
   ]
  },
  {
   "cell_type": "markdown",
   "id": "fff82c9c-e491-41bf-80fb-4c6fe150679f",
   "metadata": {},
   "source": [
    "4. Justification for the Hypothesis Test:\n",
    "\n",
    "- It enables the researcher to draw conclusions about gender disparities in cell phone usage based on statistics rather than anecdotal or biased information.\n",
    "- Comprehending the distinct patterns of cell phone usage associated with genders might aid in customizing awareness campaigns or support services, including tools for screen time management or potential overuse prevention.\n",
    "- Additionally, it can support more extensive sociological studies on the effects of technology use on the lives and wellbeing of students.\n",
    "\n",
    "We can ascertain whether additional research or focused interventions for particular student groups are required by examining the test results."
   ]
  },
  {
   "cell_type": "markdown",
   "id": "e53ccbb4-615b-441a-a0cb-1ec35de59a32",
   "metadata": {},
   "source": [
    "5. Criteria for Decision:\n",
    "- The significance level for the hypothesis test evaluation is a = 0.05. We will reject the null hypothesis and come to the conclusion that there is a statistically significant difference in the mean amount of time spent on cell phones by male and female students if the p-value from the t-test is less than 0.05. We will fail to reject the null hypothesis and come to the conclusion that there is no significant difference in the mean timings if the p-value is higher than 0.05.\n",
    "\n",
    "\n"
   ]
  },
  {
   "cell_type": "markdown",
   "id": "088b7d6c-6896-4837-93ad-19b692d3e549",
   "metadata": {},
   "source": [
    "## (2) Analyze the data to provide the hypothesis testing conclusion. What is the p-value for your test? What is your recommendation for the researcher?"
   ]
  },
  {
   "cell_type": "code",
   "execution_count": 31,
   "id": "9024dd8f-8f7a-4af2-8ca6-af12cb232511",
   "metadata": {},
   "outputs": [
    {
     "name": "stdout",
     "output_type": "stream",
     "text": [
      "p-value: 0.762\n"
     ]
    }
   ],
   "source": [
    "t_statistic, p_value = stats.ttest_ind(males, females)\n",
    "print(f\"p-value: {p_value:.3f}\")"
   ]
  },
  {
   "cell_type": "markdown",
   "id": "3746fc11-4e26-4fe2-8263-e657eba5e5c4",
   "metadata": {},
   "source": [
    "P-Value for the Test: The p-value obtained from the two-sample t-test is 0.762.\n",
    "\n",
    "Conclusion:\n",
    "- Given that the p-value exceeds the standard significance level of \n",
    "We are unable to rule out the null hypothesis when a = 0.05. This indicates that there is no statistically significant difference between male and female college students at Midwestern University in terms of the mean amount of time they spend on their phones each week.\n",
    "\n",
    "Recommendation: \n",
    "- There is no proof that male and female college students use their phones for different lengths of time, according to the results of the hypothesis test. The researcher can draw the conclusion that both genders spend about equal amounts of time on their phones in this group. If more detailed insights are needed, it might be helpful to carry out additional research with bigger sample sizes or more variables.\n"
   ]
  },
  {
   "cell_type": "markdown",
   "id": "f8e324ee-055f-4ab3-9d18-62f3bf475501",
   "metadata": {},
   "source": [
    "## (3) Provide descriptive statistical summaries of the data for each gender category."
   ]
  },
  {
   "cell_type": "markdown",
   "id": "07e51f90-4743-4279-90ab-cda206663722",
   "metadata": {},
   "source": [
    "We can use the built it function of pandas to calculate the descriptive statistic of each gender category."
   ]
  },
  {
   "cell_type": "code",
   "execution_count": 33,
   "id": "4efbde4c-9163-4e1f-9517-02c9a5510c84",
   "metadata": {},
   "outputs": [
    {
     "name": "stdout",
     "output_type": "stream",
     "text": [
      "count    50.000000\n",
      "mean      9.820000\n",
      "std       2.154161\n",
      "min       4.000000\n",
      "25%       9.000000\n",
      "50%      10.000000\n",
      "75%      11.000000\n",
      "max      15.000000\n",
      "Name: Males, dtype: float64\n",
      "\n",
      "count    50.000000\n",
      "mean      9.700000\n",
      "std       1.775686\n",
      "min       6.000000\n",
      "25%       9.000000\n",
      "50%       9.500000\n",
      "75%      11.000000\n",
      "max      14.000000\n",
      "Name: Females, dtype: float64\n"
     ]
    }
   ],
   "source": [
    "male_desc = data['Males'].describe()\n",
    "female_desc = data['Females'].describe()\n",
    "print(male_desc)\n",
    "print()\n",
    "print(female_desc)"
   ]
  },
  {
   "cell_type": "markdown",
   "id": "0800bf72-383a-4626-ae2b-26269bdab3f4",
   "metadata": {},
   "source": [
    "or we can manually compute it by using some useful libraries"
   ]
  },
  {
   "cell_type": "code",
   "execution_count": 74,
   "id": "29257613-4ff2-4f0c-9b5b-d25a87a4b8b9",
   "metadata": {},
   "outputs": [
    {
     "name": "stdout",
     "output_type": "stream",
     "text": [
      "Descriptive Statistics of Male category\n",
      "Valid: 50\n",
      "Mode: 9.000\n",
      "Median: 10.000\n",
      "Mean: 9.820\n",
      "Standard Deviation: 2.154\n",
      "Variance: 4.640\n",
      "Skewness: -0.115\n",
      "Standard error of skewness: 0.337\n",
      "Kurtosis: 0.177\n",
      "Standard error of kurtosis: 0.662\n",
      "Minimum: 4.000\n",
      "Maximum: 15.000\n",
      "25th Percentile: 9.000\n",
      "50th Percentile: 10.000\n",
      "75th Percentile: 11.000\n",
      "90th Percentile: 13.000\n",
      "95th Percentile: 13.000\n",
      "\n",
      "Descriptive Statistics of Female category\n",
      "Valid: 50\n",
      "Mode: 9.000\n",
      "Median: 9.500\n",
      "Mean: 9.700\n",
      "Standard Deviation: 1.776\n",
      "Variance: 3.153\n",
      "Skewness: 0.134\n",
      "Standard error of skewness: 0.337\n",
      "Kurtosis: -0.442\n",
      "Standard error of kurtosis: 0.662\n",
      "Minimum: 6.000\n",
      "Maximum: 14.000\n",
      "25th Percentile: 9.000\n",
      "50th Percentile: 9.500\n",
      "75th Percentile: 11.000\n",
      "90th Percentile: 12.000\n",
      "95th Percentile: 12.000\n"
     ]
    }
   ],
   "source": [
    "def descriptive(data):\n",
    "    valid = len(data)\n",
    "    mode = pd.Series(data).mode()[0]\n",
    "    median = np.median(data)\n",
    "    mean = np.mean(data)\n",
    "    std_dev = np.std(data, ddof=1)  \n",
    "    variance = np.var(data, ddof=1) \n",
    "    skewness = pd.Series(data).skew()\n",
    "    std_error_skewness = np.sqrt(6 * 50 * (50 - 1) / ((50 - 2) * (50 + 1) * (50 + 3)))  # formula \n",
    "    kurtosis = pd.Series(data).kurtosis()\n",
    "    std_error_kurtosis = np.sqrt((24 * 50 * (50 - 1) ** 2) / ((50 - 3) * (50 - 2) * (50 + 3) * (50 + 5)))  # formula\n",
    "    minimum = np.min(data)\n",
    "    maximum = np.max(data)\n",
    "    p_25 = np.percentile(data, 25)\n",
    "    p_50 = np.percentile(data, 50)\n",
    "    p_75 = np.percentile(data, 75)\n",
    "    p_90 = np.percentile(data, 90)\n",
    "    p_95 = np.percentile(data, 95)\n",
    "\n",
    "    print(f\"Valid: {valid}\")\n",
    "    print(f\"Mode: {mode:.3f}\")\n",
    "    print(f\"Median: {median:.3f}\")\n",
    "    print(f\"Mean: {mean:.3f}\")\n",
    "    print(f\"Standard Deviation: {std_dev:.3f}\")\n",
    "    print(f\"Variance: {variance:.3f}\")\n",
    "    print(f\"Skewness: {skewness:.3f}\")\n",
    "    print(f\"Standard error of skewness: {std_error_skewness:.3f}\")\n",
    "    print(f\"Kurtosis: {kurtosis:.3f}\")\n",
    "    print(f\"Standard error of kurtosis: {std_error_kurtosis:.3f}\")\n",
    "    print(f\"Minimum: {minimum:.3f}\")\n",
    "    print(f\"Maximum: {maximum:.3f}\")\n",
    "    print(f\"25th Percentile: {p_25:.3f}\")\n",
    "    print(f\"50th Percentile: {p_50:.3f}\")\n",
    "    print(f\"75th Percentile: {p_75:.3f}\")\n",
    "    print(f\"90th Percentile: {p_90:.3f}\")\n",
    "    print(f\"95th Percentile: {p_95:.3f}\")\n",
    "\n",
    "print(\"Descriptive Statistics of Male category\")\n",
    "descriptive(males)\n",
    "\n",
    "print()\n",
    "\n",
    "print(\"Descriptive Statistics of Female category\")\n",
    "descriptive(females)\n"
   ]
  },
  {
   "cell_type": "markdown",
   "id": "0238456a-af22-4968-a9ec-cbe5b593b02d",
   "metadata": {},
   "source": [
    "## (4) What is the 95% confidence interval for the population mean of each gender category, and what is the 95% confidence interval for the difference between the means of the two populations?"
   ]
  },
  {
   "cell_type": "code",
   "execution_count": 41,
   "id": "334b1b18-d15d-4c25-8952-7edf5056070f",
   "metadata": {},
   "outputs": [
    {
     "name": "stdout",
     "output_type": "stream",
     "text": [
      "95% Confidence Interval for the mean of Male: (9.207794314064703, 10.432205685935298)\n",
      "95% Confidence Interval for the mean of female: (9.19535558679254, 10.20464441320746)\n",
      "\n",
      "standard error for the difference of means: 0.3948029733361972\n",
      "confidence interval for difference between means: 0.120\n",
      "Difference between means, male and female respectively: (-0.6634736514965714, 0.9034736514965734)\n"
     ]
    }
   ],
   "source": [
    "import numpy as np\n",
    "import scipy.stats as stats\n",
    "\n",
    "mean_males = np.mean(males)\n",
    "mean_females = np.mean(females)\n",
    "std_males = np.std(males, ddof=1) \n",
    "std_females = np.std(females, ddof=1)\n",
    "n_males = len(males)\n",
    "n_females = len(females)\n",
    "\n",
    "# 95% Confidence Interval for the mean of each gender category\n",
    "conf_interval_males = stats.t.interval(\n",
    "    0.95, df=n_males-1, loc=mean_males, scale=std_males/np.sqrt(n_males)\n",
    ")\n",
    "conf_interval_females = stats.t.interval(\n",
    "    0.95, df=n_females-1, loc=mean_females, scale=std_females/np.sqrt(n_females)\n",
    ")\n",
    "\n",
    "# 95% Confidence Interval for the difference between means\n",
    "# Calculate the standard error for the difference of means\n",
    "se_diff = np.sqrt((std_males**2 / n_males) + (std_females**2 / n_females))\n",
    "\n",
    "# Calculate confidence interval for difference between means\n",
    "mean_diff = mean_males - mean_females\n",
    "conf_interval_diff = (\n",
    "    mean_diff - stats.t.ppf(0.975, df=n_males+n_females-2) * se_diff,\n",
    "    mean_diff + stats.t.ppf(0.975, df=n_males+n_females-2) * se_diff\n",
    ")\n",
    "\n",
    "print(f\"95% Confidence Interval for the mean of Male: {conf_interval_males}\")\n",
    "print(f\"95% Confidence Interval for the mean of female: {conf_interval_females}\")\n",
    "print()\n",
    "print(f\"standard error for the difference of means: {se_diff}\")\n",
    "print(f\"confidence interval for difference between means: {mean_diff:.3f}\")\n",
    "print(f\"Difference between means, male and female respectively: {conf_interval_diff}\")"
   ]
  },
  {
   "cell_type": "markdown",
   "id": "cecf1fb2-3ef8-4479-a05c-d9d889885101",
   "metadata": {},
   "source": [
    "## (5) Do you see a need for larger sample sizes and more testing with the time spent on cell phones? Discuss."
   ]
  },
  {
   "cell_type": "markdown",
   "id": "e758f5c6-5b08-4d55-b856-3fc33896b94e",
   "metadata": {},
   "source": [
    "The sample size (50 men and 50 women) is sufficient for basic statistical tests and yielded a respectably accurate estimate of the mean and standard deviation for each group, according to the current analysis. Still, there are a number of reasons why more testing and a bigger sample size might be helpful:"
   ]
  },
  {
   "cell_type": "markdown",
   "id": "727f6ca1-2f80-4d4f-995c-ac55a2249279",
   "metadata": {},
   "source": [
    "1. Improving Precision and Reducing Error:\n",
    "- Confidence Interval Width: At -0.66 to 0.90 hours, the 95% confidence interval for the mean difference is rather broad. This width implies that the estimation of the gender-to-gender mean difference is not particularly accurate. An increased sample size would aid in reducing this range and yield a more precise approximation of the actual difference (or absence of it).\n",
    "- Greater sample sizes lower standard errors, improving the reliability of the findings and lowering the possibility of Type II errors (the inability to identify a difference when one is there).\n",
    "\n",
    "2. Assessing Robustness and Generalizability:\n",
    "- Midwestern University is the only university from which the present sample is taken. Even if it sheds light on one particular population, it might not be universally applicable to college students. The results would be more broadly applicable if the samples were larger and more varied, drawn from different universities or geographical areas.\n",
    "- To confirm that the observed lack of difference is not the result of random sampling error or particular attributes of the selected university, more testing with bigger samples can be conducted.\n",
    "\n",
    "3. Considering Other Variables:\n",
    "- The analysis takes gender into account as a single variable. More complex patterns of cell phone use may be shown by controlling for factors including age, socioeconomic position, academic major, and social participation.\n",
    "- Researchers may get deeper insights by combining variables into a multiple regression analysis or other sophisticated statistical models if they believe that factors other than gender play a significant role in the disparities in cell phone usage.\n",
    "\n",
    "4. Detecting Smaller Effect Sizes:\n",
    "- Only significant differences are likely to be seen with a limited sample size. In the event that there is little real difference in cell phone use between men and women, a bigger sample size would be required to detect this smaller effect size with enough power.\n",
    "- The small mean difference (0.12 hours) in the present analysis was not statistically significant. The test's power would rise with a bigger sample size, enabling it to identify any changes, no matter how little.\n",
    "\n",
    "Conclusion:\n",
    "Future research should consider larger sample sizes and more testing in light of the aforementioned considerations. This would raise the generalizability of findings, enhance the accuracy and dependability of estimates, and provide a clearer picture of college students' cell phone use habits.\n",
    "\n",
    "A wider demographic and other variables could be included in the study to produce more reliable results and aid in identifying possible subgroups where variations in cell phone use may truly occur."
   ]
  },
  {
   "cell_type": "markdown",
   "id": "999f5d70-59e2-4266-8eb3-9a91d4bf697c",
   "metadata": {},
   "source": [
    "## (6) Make a report including the testing of the assumptions for two independent samples t-test."
   ]
  },
  {
   "cell_type": "markdown",
   "id": "15bd98ad-ad0f-4f5b-8476-fbfaeb535b88",
   "metadata": {},
   "source": [
    "When comparing the means of two independent groups, the Independent Samples t Test is used to assess if there is statistical support for a significant difference in the related population means. A parametric test is the Independent Samples t Test."
   ]
  },
  {
   "cell_type": "markdown",
   "id": "c2aaa3eb-e1a0-4c92-bb8f-c2868ee6455a",
   "metadata": {},
   "source": [
    "We should check the data if it passes to the assumptions of the Independent Samples t-Test. Verifying that the data meets the test's underlying assumptions is crucial. The following are the main presumptions of a two-sample independent t-test:\n",
    "\n",
    "1.\tYou have one dependent variable that is measured at the continuous level.\n",
    "2.\tYou have one independent variable that consists of two categorical, independent groups (i.e., a dichotomous variable).\n",
    "3.\tYou should have independence of observations, which means that there is no relationship between the observations in each group of the independent variable or between the groups themselves.\n",
    "4.\tThere should be no significant outliers in the two groups of your independent variable in terms of the dependent variable.\n",
    "5.\tYour dependent variable should be approximately normally distributed for each group of the independent variable.\n",
    "6.\tYou have homogeneity of variances (i.e., the variance of the dependent variable is equal in each group of your independent variable)."
   ]
  },
  {
   "cell_type": "markdown",
   "id": "e2ce4d67-ee77-4ad3-a5e2-ee1d92ba695a",
   "metadata": {},
   "source": [
    "1. Dependent Variable (Cell Phone Usage in Hours per Week)\n",
    "- The data for cell phone usage is measured in hours per week, which is a continuous variable.\n",
    "\n",
    "2. Independent Variable (Gender: Males and Females)\n",
    "- Gender is the independent variable, consisting of two distinct categories: male and female.\n",
    "\n",
    "3. Independence of Observations\n",
    "- There is no evidence to suggest that findings are connected within or across groups, given each student was measured independently.\n"
   ]
  },
  {
   "cell_type": "markdown",
   "id": "15033167-ede5-4949-9d7c-d86172b7c274",
   "metadata": {},
   "source": [
    "4. Examining the male and female groups:\n",
    "- The boxplot of cell phone usage by gender shows that there are significant outliers in the male group. Specifically, there are two data points outside the normal range of values: one individual reported a cell phone usage of over 14 hours per week, and another reported usage below 4 hours. These points are considered outliers, as they fall beyond 1.5 times the interquartile range (IQR).\n",
    "\n",
    "- In contrast, the female group shows no significant outliers, as no data points are plotted outside the whiskers. This suggests that the cell phone usage for females is more consistent compared to males, where a few participants exhibit notably higher or lower usage than the rest."
   ]
  },
  {
   "cell_type": "code",
   "execution_count": 71,
   "id": "f35f3738-f330-44ac-a35e-115ef71ba6ae",
   "metadata": {},
   "outputs": [
    {
     "data": {
      "image/png": "[encoded data removed]",
      "text/plain": [
       "<Figure size 800x500 with 1 Axes>"
      ]
     },
     "metadata": {},
     "output_type": "display_data"
    },
    {
     "data": {
      "image/png": "[encoded data removed]",
      "text/plain": [
       "<Figure size 1200x500 with 2 Axes>"
      ]
     },
     "metadata": {},
     "output_type": "display_data"
    }
   ],
   "source": [
    "plt.figure(figsize=(8, 5))\n",
    "sns.boxplot(data=[males, females], palette=['skyblue', 'salmon'], width=0.6)\n",
    "plt.xticks([0, 1], ['Males', 'Females'])\n",
    "plt.title('Boxplot of Cell Phone Usage by Gender')\n",
    "plt.ylabel('Hours per Week')\n",
    "plt.show()\n",
    "\n",
    "plt.figure(figsize=(12, 5))\n",
    "plt.subplot(1, 2, 1)\n",
    "stats.probplot(males, dist=\"norm\", plot=plt)\n",
    "plt.title('Q-Q Plot for Cell Phone Usage (Males)')\n",
    "\n",
    "plt.subplot(1, 2, 2)\n",
    "stats.probplot(females, dist=\"norm\", plot=plt)\n",
    "plt.title('Q-Q Plot for Cell Phone Usage (Females)')\n",
    "plt.tight_layout()\n",
    "plt.show()"
   ]
  },
  {
   "cell_type": "markdown",
   "id": "df9f4de0-2c54-4e72-9009-cc7f8ef2d363",
   "metadata": {},
   "source": [
    "The Shapiro-Wilk test was performed:\n",
    "Males: p-value = 0.354\n",
    "Females: p-value = 0.129 Both p-values are greater than 0.05, so we fail to reject the null hypothesis that the data follows a normal distribution. Additionally, Q-Q plots showed that the data points followed the reference line fairly well."
   ]
  },
  {
   "cell_type": "code",
   "execution_count": 78,
   "id": "c588370b-770f-4caf-9c1b-d11c62f1a5fc",
   "metadata": {},
   "outputs": [
    {
     "name": "stdout",
     "output_type": "stream",
     "text": [
      "Shapiro-Wilk Test (Males): Test Statistic = 0.975, p-value = 0.354\n",
      "Shapiro-Wilk Test (Females): Test Statistic = 0.964, p-value = 0.129\n"
     ]
    }
   ],
   "source": [
    "# Perform Shapiro-Wilk test for normality for both groups\n",
    "shapiro_males = stats.shapiro(males)\n",
    "shapiro_females = stats.shapiro(females)\n",
    "\n",
    "print(\"Shapiro-Wilk Test (Males): Test Statistic = {:.3f}, p-value = {:.3f}\".format(shapiro_males[0], shapiro_males[1]))\n",
    "print(\"Shapiro-Wilk Test (Females): Test Statistic = {:.3f}, p-value = {:.3f}\".format(shapiro_females[0], shapiro_females[1]))"
   ]
  },
  {
   "cell_type": "code",
   "execution_count": 76,
   "id": "f29ffbf0-07e0-4a7e-b6ce-53c6a41ab04d",
   "metadata": {},
   "outputs": [
    {
     "name": "stdout",
     "output_type": "stream",
     "text": [
      "Levene's Test for Equality of Variances: Test Statistic = 0.694, p-value = 0.407\n"
     ]
    }
   ],
   "source": [
    "# Perform Levene's test for equality of variances\n",
    "levene_test = stats.levene(males, females)\n",
    "\n",
    "print(\"Levene's Test for Equality of Variances: Test Statistic = {:.3f}, p-value = {:.3f}\".format(levene_test[0], levene_test[1]))\n"
   ]
  },
  {
   "cell_type": "markdown",
   "id": "b1b65d47-7caf-4a69-bf88-1e0b5cbf0400",
   "metadata": {},
   "source": [
    "Levene’s Test: p-value = 0.407 Since the p-value is greater than 0.05, we fail to reject the null hypothesis that the variances are equal between groups."
   ]
  },
  {
   "cell_type": "code",
   "execution_count": 59,
   "id": "1fffee19-9008-46ef-85d7-f3a749e80429",
   "metadata": {},
   "outputs": [
    {
     "name": "stdout",
     "output_type": "stream",
     "text": [
      "t-Statistic: 0.304\n",
      "p-Value: 0.762\n",
      "Conclusion:\n",
      "The result is not statistically significant; we fail to reject the null hypothesis.\n"
     ]
    }
   ],
   "source": [
    "t_stat, p_value = stats.ttest_ind(males, females)\n",
    "\n",
    "print(f\"t-Statistic: {t_stat:.3f}\")\n",
    "print(f\"p-Value: {p_value:.3f}\")\n",
    "\n",
    "print(\"Conclusion:\")\n",
    "if p_value > 0.05:\n",
    "    print(\"The result is not statistically significant; we fail to reject the null hypothesis.\")\n",
    "else:\n",
    "    print(\"The result is statistically significant; we reject the null hypothesis.\")"
   ]
  }
 ],
 "metadata": {
  "kernelspec": {
   "display_name": "Python 3 (ipykernel)",
   "language": "python",
   "name": "python3"
  },
  "language_info": {
   "codemirror_mode": {
    "name": "ipython",
    "version": 3
   },
   "file_extension": ".py",
   "mimetype": "text/x-python",
   "name": "python",
   "nbconvert_exporter": "python",
   "pygments_lexer": "ipython3",
   "version": "3.11.4"
  }
 },
 "nbformat": 4,
 "nbformat_minor": 5
}
