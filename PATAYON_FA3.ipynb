{
 "cells": [
  {
   "cell_type": "code",
   "execution_count": 141,
   "id": "cb95cc8d-80a2-4513-93d1-f7a56c3f826c",
   "metadata": {},
   "outputs": [
    {
     "name": "stdout",
     "output_type": "stream",
     "text": [
      "The given data set is [88, 45, 53, 86, 33, 86, 85, 30, 89, 53, 41, 96, 56, 38, 62, 71, 51, 86, 68, 29, 28, 47, 33, 37, 25, 36, 33, 94, 73, 46, 42, 34, 79, 72, 88, 99, 82, 62, 57, 42, 28, 55, 67, 62, 60, 96, 61, 57, 75, 93, 34, 75, 53, 32, 28, 73, 51, 69, 91, 35]\n",
      "\n",
      "===== Results =====\n",
      "Valid: 60\n",
      "Mode: 28.000\n",
      "Mode: 57.000\n",
      "Mean: 59.167\n",
      "Standard Deviation: 22.211\n",
      "Variance: 493.328\n",
      "Skewness: 0.167\n",
      "Standard error of skewness: 0.309\n",
      "Kurtosis: -1.244\n",
      "Standard error of kurtosis: 0.608\n",
      "Minimum: 25.000\n",
      "Maximum: 99.000\n",
      "25th Percentile: 37.750\n",
      "50th Percentile: 57.000\n",
      "75th Percentile: 76.000\n",
      "90th Percentile: 89.200\n",
      "95th Percentile: 94.100\n"
     ]
    }
   ],
   "source": [
    "import numpy as np\n",
    "import pandas as pd\n",
    "import statistics as stats\n",
    "from scipy.stats import skew\n",
    "from scipy.stats import kurtosis\n",
    "\n",
    "scores = [88, 45, 53, 86, 33, 86, 85, 30, 89, 53, 41, 96, 56, 38, 62,\n",
    "          71, 51, 86, 68, 29, 28, 47, 33, 37, 25, 36, 33, 94, 73, 46,\n",
    "          42, 34, 79, 72, 88, 99, 82, 62, 57, 42, 28, 55, 67, 62, 60,\n",
    "          96, 61, 57, 75, 93, 34, 75, 53, 32, 28, 73, 51, 69, 91, 35]\n",
    "\n",
    "print(f\"The given data set is {scores}\")\n",
    "print()\n",
    "\n",
    "# Computations using the libraries\n",
    "valid = len(scores)\n",
    "mode = pd.Series(scores).mode()[0]\n",
    "median = np.median(scores)\n",
    "mean = np.mean(scores)\n",
    "std_dev = stats_2.stdev(scores)\n",
    "variance = stats_2.variance(scores)\n",
    "skewness =  pd.Series(scores).skew()\n",
    "std_error_skewness = np.sqrt(6*60*(60-1) / ((60-2)*(60+1)*(60+3))) # formula \n",
    "kurtosis = pd.Series(scores).kurtosis()\n",
    "std_error_kurtosis = np.sqrt((24 * 60 * (60 - 1)**2) / ((60 - 3) * (60 - 2) * (60 + 3) * (60 + 5))) #formula\n",
    "min = np.min(scores)\n",
    "max = np.max(scores)\n",
    "p_25 = np.percentile(scores,25)\n",
    "p_50 = np.percentile(scores,50)\n",
    "p_75 = np.percentile(scores,75)\n",
    "p_90 = np.percentile(scores,90)\n",
    "p_95 = np.percentile(scores,95)\n",
    "\n",
    "# Results \n",
    "print(\"===== Results =====\")\n",
    "print(f\"Valid: {valid}\")\n",
    "print(f\"Mode: {mode:.3f}\")\n",
    "print(f\"Mode: {median:.3f}\")\n",
    "print(f\"Mean: {mean:.3f}\")\n",
    "print(f\"Standard Deviation: {std_dev:.3f}\")\n",
    "print(f\"Variance: {variance:.3f}\")\n",
    "print(f\"Skewness: {skewness:.3f}\")\n",
    "print(f\"Standard error of skewness: {std_error_skewness:.3f}\")\n",
    "print(f\"Kurtosis: {kurtosis:.3f}\")\n",
    "print(f\"Standard error of kurtosis: {std_error_kurtosis:.3f}\")\n",
    "print(f\"Minimum: {min:.3f}\")\n",
    "print(f\"Maximum: {max:.3f}\")\n",
    "print(f\"25th Percentile: {p_25:.3f}\")\n",
    "print(f\"50th Percentile: {p_50:.3f}\")\n",
    "print(f\"75th Percentile: {p_75:.3f}\")\n",
    "print(f\"90th Percentile: {p_90:.3f}\")\n",
    "print(f\"95th Percentile: {p_95:.3f}\")"
   ]
  },
  {
   "cell_type": "code",
   "execution_count": 143,
   "id": "6e59c066-0312-40ce-94e2-a3d719d1d83f",
   "metadata": {},
   "outputs": [
    {
     "name": "stdout",
     "output_type": "stream",
     "text": [
      "                             Value\n",
      "valid                       60.000\n",
      "mode                        28.000\n",
      "median                      57.000\n",
      "mean                        59.167\n",
      "standard deviation          22.211\n",
      "variance                   493.328\n",
      "skewness                     0.167\n",
      "standard error of skewness   0.309\n",
      "kurtosis                    -1.244\n",
      "standard error of kurtosis   0.608\n",
      "minimum                     25.000\n",
      "maximum                     99.000\n",
      "25th percentile             37.750\n",
      "50th percentile             57.000\n",
      "75th percentile             76.000\n",
      "90th percentile             89.200\n",
      "95th percentile             94.100\n"
     ]
    }
   ],
   "source": [
    "# To create a table for this, we will use pandas\n",
    "data = {\n",
    "    'Value': [valid, mode, median, mean, std_dev, variance, skewness, std_error_skewness, kurtosis,\n",
    "              std_error_kurtosis, min, max, p_25, p_50, p_75, p_90, p_95]\n",
    "}\n",
    "\n",
    "index = ['valid', 'mode', 'median', 'mean', 'standard deviation', 'variance', \n",
    "         'skewness', 'standard error of skewness', 'kurtosis', 'standard error of kurtosis',\n",
    "         'minimum', 'maximum', '25th percentile', '50th percentile', '75th percentile',\n",
    "         '90th percentile', '95th percentile']\n",
    "\n",
    "df = pd.DataFrame(data, index=index)\n",
    "\n",
    "pd.options.display.float_format = '{:.3f}'.format\n",
    "\n",
    "print(df)"
   ]
  }
 ],
 "metadata": {
  "kernelspec": {
   "display_name": "Python 3 (ipykernel)",
   "language": "python",
   "name": "python3"
  },
  "language_info": {
   "codemirror_mode": {
    "name": "ipython",
    "version": 3
   },
   "file_extension": ".py",
   "mimetype": "text/x-python",
   "name": "python",
   "nbconvert_exporter": "python",
   "pygments_lexer": "ipython3",
   "version": "3.11.4"
  }
 },
 "nbformat": 4,
 "nbformat_minor": 5
}
