{
 "cells": [
  {
   "cell_type": "code",
   "execution_count": 52,
   "id": "7899a33f-8756-4d5a-a937-841157627242",
   "metadata": {},
   "outputs": [],
   "source": [
    "import pandas as pd\n",
    "import numpy as np\n",
    "from scipy.stats import levene, shapiro\n",
    "import statsmodels.api as sm\n",
    "from statsmodels.formula.api import ols\n",
    "import matplotlib.pyplot as plt\n",
    "import seaborn as sns\n",
    "from scipy.stats import levene\n",
    "from scipy import stats \n",
    "from statsmodels.stats.anova import anova_lm"
   ]
  },
  {
   "cell_type": "code",
   "execution_count": 54,
   "id": "9b540f42-cc49-4e73-8c0b-5ced6c2b7d6d",
   "metadata": {},
   "outputs": [
    {
     "data": {
      "text/html": [
       "<div>\n",
       "<style scoped>\n",
       "    .dataframe tbody tr th:only-of-type {\n",
       "        vertical-align: middle;\n",
       "    }\n",
       "\n",
       "    .dataframe tbody tr th {\n",
       "        vertical-align: top;\n",
       "    }\n",
       "\n",
       "    .dataframe thead th {\n",
       "        text-align: right;\n",
       "    }\n",
       "</style>\n",
       "<table border=\"1\" class=\"dataframe\">\n",
       "  <thead>\n",
       "    <tr style=\"text-align: right;\">\n",
       "      <th></th>\n",
       "      <th>AD_Status</th>\n",
       "      <th>Treatment</th>\n",
       "      <th>Training</th>\n",
       "      <th>Memory</th>\n",
       "    </tr>\n",
       "  </thead>\n",
       "  <tbody>\n",
       "    <tr>\n",
       "      <th>0</th>\n",
       "      <td>1</td>\n",
       "      <td>1</td>\n",
       "      <td>12</td>\n",
       "      <td>10</td>\n",
       "    </tr>\n",
       "    <tr>\n",
       "      <th>1</th>\n",
       "      <td>1</td>\n",
       "      <td>1</td>\n",
       "      <td>15</td>\n",
       "      <td>12</td>\n",
       "    </tr>\n",
       "    <tr>\n",
       "      <th>2</th>\n",
       "      <td>1</td>\n",
       "      <td>1</td>\n",
       "      <td>13</td>\n",
       "      <td>13</td>\n",
       "    </tr>\n",
       "    <tr>\n",
       "      <th>3</th>\n",
       "      <td>1</td>\n",
       "      <td>1</td>\n",
       "      <td>12</td>\n",
       "      <td>10</td>\n",
       "    </tr>\n",
       "    <tr>\n",
       "      <th>4</th>\n",
       "      <td>1</td>\n",
       "      <td>1</td>\n",
       "      <td>14</td>\n",
       "      <td>13</td>\n",
       "    </tr>\n",
       "    <tr>\n",
       "      <th>5</th>\n",
       "      <td>1</td>\n",
       "      <td>2</td>\n",
       "      <td>15</td>\n",
       "      <td>13</td>\n",
       "    </tr>\n",
       "    <tr>\n",
       "      <th>6</th>\n",
       "      <td>1</td>\n",
       "      <td>2</td>\n",
       "      <td>17</td>\n",
       "      <td>13</td>\n",
       "    </tr>\n",
       "    <tr>\n",
       "      <th>7</th>\n",
       "      <td>1</td>\n",
       "      <td>2</td>\n",
       "      <td>16</td>\n",
       "      <td>14</td>\n",
       "    </tr>\n",
       "    <tr>\n",
       "      <th>8</th>\n",
       "      <td>1</td>\n",
       "      <td>2</td>\n",
       "      <td>17</td>\n",
       "      <td>15</td>\n",
       "    </tr>\n",
       "    <tr>\n",
       "      <th>9</th>\n",
       "      <td>1</td>\n",
       "      <td>2</td>\n",
       "      <td>14</td>\n",
       "      <td>11</td>\n",
       "    </tr>\n",
       "    <tr>\n",
       "      <th>10</th>\n",
       "      <td>1</td>\n",
       "      <td>3</td>\n",
       "      <td>13</td>\n",
       "      <td>12</td>\n",
       "    </tr>\n",
       "    <tr>\n",
       "      <th>11</th>\n",
       "      <td>1</td>\n",
       "      <td>3</td>\n",
       "      <td>14</td>\n",
       "      <td>11</td>\n",
       "    </tr>\n",
       "    <tr>\n",
       "      <th>12</th>\n",
       "      <td>1</td>\n",
       "      <td>3</td>\n",
       "      <td>18</td>\n",
       "      <td>15</td>\n",
       "    </tr>\n",
       "    <tr>\n",
       "      <th>13</th>\n",
       "      <td>1</td>\n",
       "      <td>3</td>\n",
       "      <td>15</td>\n",
       "      <td>10</td>\n",
       "    </tr>\n",
       "    <tr>\n",
       "      <th>14</th>\n",
       "      <td>1</td>\n",
       "      <td>3</td>\n",
       "      <td>16</td>\n",
       "      <td>14</td>\n",
       "    </tr>\n",
       "    <tr>\n",
       "      <th>15</th>\n",
       "      <td>1</td>\n",
       "      <td>4</td>\n",
       "      <td>14</td>\n",
       "      <td>12</td>\n",
       "    </tr>\n",
       "    <tr>\n",
       "      <th>16</th>\n",
       "      <td>1</td>\n",
       "      <td>4</td>\n",
       "      <td>13</td>\n",
       "      <td>11</td>\n",
       "    </tr>\n",
       "    <tr>\n",
       "      <th>17</th>\n",
       "      <td>1</td>\n",
       "      <td>4</td>\n",
       "      <td>12</td>\n",
       "      <td>10</td>\n",
       "    </tr>\n",
       "    <tr>\n",
       "      <th>18</th>\n",
       "      <td>1</td>\n",
       "      <td>4</td>\n",
       "      <td>14</td>\n",
       "      <td>13</td>\n",
       "    </tr>\n",
       "    <tr>\n",
       "      <th>19</th>\n",
       "      <td>1</td>\n",
       "      <td>4</td>\n",
       "      <td>15</td>\n",
       "      <td>10</td>\n",
       "    </tr>\n",
       "    <tr>\n",
       "      <th>20</th>\n",
       "      <td>2</td>\n",
       "      <td>1</td>\n",
       "      <td>17</td>\n",
       "      <td>9</td>\n",
       "    </tr>\n",
       "    <tr>\n",
       "      <th>21</th>\n",
       "      <td>2</td>\n",
       "      <td>1</td>\n",
       "      <td>16</td>\n",
       "      <td>8</td>\n",
       "    </tr>\n",
       "    <tr>\n",
       "      <th>22</th>\n",
       "      <td>2</td>\n",
       "      <td>1</td>\n",
       "      <td>17</td>\n",
       "      <td>10</td>\n",
       "    </tr>\n",
       "    <tr>\n",
       "      <th>23</th>\n",
       "      <td>2</td>\n",
       "      <td>1</td>\n",
       "      <td>14</td>\n",
       "      <td>8</td>\n",
       "    </tr>\n",
       "    <tr>\n",
       "      <th>24</th>\n",
       "      <td>2</td>\n",
       "      <td>1</td>\n",
       "      <td>13</td>\n",
       "      <td>8</td>\n",
       "    </tr>\n",
       "    <tr>\n",
       "      <th>25</th>\n",
       "      <td>2</td>\n",
       "      <td>2</td>\n",
       "      <td>14</td>\n",
       "      <td>7</td>\n",
       "    </tr>\n",
       "    <tr>\n",
       "      <th>26</th>\n",
       "      <td>2</td>\n",
       "      <td>2</td>\n",
       "      <td>18</td>\n",
       "      <td>10</td>\n",
       "    </tr>\n",
       "    <tr>\n",
       "      <th>27</th>\n",
       "      <td>2</td>\n",
       "      <td>2</td>\n",
       "      <td>16</td>\n",
       "      <td>5</td>\n",
       "    </tr>\n",
       "    <tr>\n",
       "      <th>28</th>\n",
       "      <td>2</td>\n",
       "      <td>2</td>\n",
       "      <td>17</td>\n",
       "      <td>9</td>\n",
       "    </tr>\n",
       "    <tr>\n",
       "      <th>29</th>\n",
       "      <td>2</td>\n",
       "      <td>2</td>\n",
       "      <td>14</td>\n",
       "      <td>7</td>\n",
       "    </tr>\n",
       "    <tr>\n",
       "      <th>30</th>\n",
       "      <td>2</td>\n",
       "      <td>3</td>\n",
       "      <td>13</td>\n",
       "      <td>8</td>\n",
       "    </tr>\n",
       "    <tr>\n",
       "      <th>31</th>\n",
       "      <td>2</td>\n",
       "      <td>3</td>\n",
       "      <td>14</td>\n",
       "      <td>7</td>\n",
       "    </tr>\n",
       "    <tr>\n",
       "      <th>32</th>\n",
       "      <td>2</td>\n",
       "      <td>3</td>\n",
       "      <td>18</td>\n",
       "      <td>9</td>\n",
       "    </tr>\n",
       "    <tr>\n",
       "      <th>33</th>\n",
       "      <td>2</td>\n",
       "      <td>3</td>\n",
       "      <td>15</td>\n",
       "      <td>8</td>\n",
       "    </tr>\n",
       "    <tr>\n",
       "      <th>34</th>\n",
       "      <td>2</td>\n",
       "      <td>3</td>\n",
       "      <td>16</td>\n",
       "      <td>9</td>\n",
       "    </tr>\n",
       "    <tr>\n",
       "      <th>35</th>\n",
       "      <td>2</td>\n",
       "      <td>4</td>\n",
       "      <td>14</td>\n",
       "      <td>7</td>\n",
       "    </tr>\n",
       "    <tr>\n",
       "      <th>36</th>\n",
       "      <td>2</td>\n",
       "      <td>4</td>\n",
       "      <td>13</td>\n",
       "      <td>9</td>\n",
       "    </tr>\n",
       "    <tr>\n",
       "      <th>37</th>\n",
       "      <td>2</td>\n",
       "      <td>4</td>\n",
       "      <td>12</td>\n",
       "      <td>5</td>\n",
       "    </tr>\n",
       "    <tr>\n",
       "      <th>38</th>\n",
       "      <td>2</td>\n",
       "      <td>4</td>\n",
       "      <td>14</td>\n",
       "      <td>8</td>\n",
       "    </tr>\n",
       "    <tr>\n",
       "      <th>39</th>\n",
       "      <td>2</td>\n",
       "      <td>4</td>\n",
       "      <td>15</td>\n",
       "      <td>4</td>\n",
       "    </tr>\n",
       "  </tbody>\n",
       "</table>\n",
       "</div>"
      ],
      "text/plain": [
       "    AD_Status  Treatment  Training  Memory\n",
       "0           1          1        12      10\n",
       "1           1          1        15      12\n",
       "2           1          1        13      13\n",
       "3           1          1        12      10\n",
       "4           1          1        14      13\n",
       "5           1          2        15      13\n",
       "6           1          2        17      13\n",
       "7           1          2        16      14\n",
       "8           1          2        17      15\n",
       "9           1          2        14      11\n",
       "10          1          3        13      12\n",
       "11          1          3        14      11\n",
       "12          1          3        18      15\n",
       "13          1          3        15      10\n",
       "14          1          3        16      14\n",
       "15          1          4        14      12\n",
       "16          1          4        13      11\n",
       "17          1          4        12      10\n",
       "18          1          4        14      13\n",
       "19          1          4        15      10\n",
       "20          2          1        17       9\n",
       "21          2          1        16       8\n",
       "22          2          1        17      10\n",
       "23          2          1        14       8\n",
       "24          2          1        13       8\n",
       "25          2          2        14       7\n",
       "26          2          2        18      10\n",
       "27          2          2        16       5\n",
       "28          2          2        17       9\n",
       "29          2          2        14       7\n",
       "30          2          3        13       8\n",
       "31          2          3        14       7\n",
       "32          2          3        18       9\n",
       "33          2          3        15       8\n",
       "34          2          3        16       9\n",
       "35          2          4        14       7\n",
       "36          2          4        13       9\n",
       "37          2          4        12       5\n",
       "38          2          4        14       8\n",
       "39          2          4        15       4"
      ]
     },
     "execution_count": 54,
     "metadata": {},
     "output_type": "execute_result"
    }
   ],
   "source": [
    "data = pd.read_csv(r\"C:\\Users\\spike\\Downloads\\Alzheimers Mice Data.csv\")\n",
    "\n",
    "#Checking the column names only of each series of data\n",
    "data"
   ]
  },
  {
   "cell_type": "markdown",
   "id": "f2a92ddf-0d3b-43b6-b9cf-399f3e708346",
   "metadata": {},
   "source": [
    "(1st Assumption) Your dependent variable should be measured at the continuous level(i.e., they are interval or ratio variables).\n",
    "\n",
    "(2nd Assumption) Your two independent variables should each consist of two or more categorical, independent groups.\n",
    "\n",
    "(3rd Assumption) You should have independence of observations, which means that there is no relationship between the observations in each group or between the groups themselves.\n",
    "\n",
    "(4th Assumption) There should be no significant outliers.\n",
    "\n",
    "(5th Assumption) Your dependent variable should be approximately normally distributed for each combination of the groups of the two independent variables.\n",
    "\n",
    "(6th Assumption) There needs to be homogeneity of variances for each combination of the groups of the two independent variables."
   ]
  },
  {
   "cell_type": "markdown",
   "id": "818b6a72-53fa-4454-8609-367942b78e5a",
   "metadata": {},
   "source": [
    "# Data Set And Problem:\n",
    "\n",
    "A researcher was interested in whether an individual's Training Day Errors were influenced by their AD status and the type of treatment they received. They recruited a random sample of mice for their study and measured the Training Day Errors after different treatments, with higher scores indicating more errors during the training process. The researcher then divided the participants by AD status (1 for Alzheimer's Disease, 2 for no Alzheimer's Disease) and by treatment type (Treatments 1, 2, 3, 4). Therefore, the dependent variable was Training Day Errors, and the two independent variables were AD status and treatment."
   ]
  },
  {
   "cell_type": "markdown",
   "id": "83b3346a-8f01-4f9d-a10b-da7a9d0e9ae5",
   "metadata": {},
   "source": [
    "# assumption 1:"
   ]
  },
  {
   "cell_type": "code",
   "execution_count": 14,
   "id": "a4ca10e3-8538-43d1-b31a-fb4516444886",
   "metadata": {},
   "outputs": [
    {
     "name": "stdout",
     "output_type": "stream",
     "text": [
      "\n",
      "Training Column Data Type: int64\n",
      "\n",
      "Summary Statistics for 'Training':\n",
      "count    40.000000\n",
      "mean     14.725000\n",
      "std       1.753933\n",
      "min      12.000000\n",
      "25%      13.750000\n",
      "50%      14.000000\n",
      "75%      16.000000\n",
      "max      18.000000\n",
      "Name: Training, dtype: float64\n",
      "\n",
      "Unique values in 'Training': [12, 13, 14, 15, 16, 17, 18]\n"
     ]
    }
   ],
   "source": [
    "# Ensure the 'Training' column is numeric\n",
    "print(\"\\nTraining Column Data Type:\", data['Training'].dtype)\n",
    "\n",
    "# Summary statistics for the dependent variable\n",
    "print(\"\\nSummary Statistics for 'Training':\")\n",
    "print(data['Training'].describe())\n",
    "\n",
    "# Inspect the unique values to confirm continuous nature\n",
    "print(\"\\nUnique values in 'Training':\", sorted(data['Training'].unique()))"
   ]
  },
  {
   "cell_type": "markdown",
   "id": "fc181589-9ab6-4bad-9e59-e3ee122350c4",
   "metadata": {},
   "source": [
    "The dependent variable, Training, is measured at the continuous level."
   ]
  },
  {
   "cell_type": "markdown",
   "id": "06846364-d071-44a0-80bb-1e1d4d2b82b8",
   "metadata": {},
   "source": [
    "# assumption 2: "
   ]
  },
  {
   "cell_type": "markdown",
   "id": "584d7b14-b38c-4b56-a23a-6697411fadb5",
   "metadata": {},
   "source": [
    "First independent variable (AD_Status): 2 categories (1 and 2)\n",
    "\n",
    "Second independent variable (Treatment): 4 categories (1, 2, 3, and 4)"
   ]
  },
  {
   "cell_type": "markdown",
   "id": "a4ab706c-7be2-4f02-a11b-2805a0e01ba6",
   "metadata": {},
   "source": [
    "# assumption 3:"
   ]
  },
  {
   "cell_type": "code",
   "execution_count": 22,
   "id": "6d17de36-a3ac-4962-a2a7-022bc730eb61",
   "metadata": {},
   "outputs": [
    {
     "name": "stdout",
     "output_type": "stream",
     "text": [
      "Checking for repeated subjects:\n",
      "AD_Status  Treatment\n",
      "1          1            5\n",
      "           2            5\n",
      "           3            5\n",
      "           4            5\n",
      "2          1            5\n",
      "           2            5\n",
      "           3            5\n",
      "           4            5\n",
      "dtype: int64\n"
     ]
    }
   ],
   "source": [
    "# Check for repeated subjects across groups (based on AD_Status and Treatment)\n",
    "# If the same subject appears in multiple combinations of Treatment and AD_Status, the observations are not independent\n",
    "\n",
    "print(\"Checking for repeated subjects:\")\n",
    "print(data.groupby(['AD_Status', 'Treatment']).size())"
   ]
  },
  {
   "cell_type": "markdown",
   "id": "75607ca8-4181-474e-a809-904aeb52fd45",
   "metadata": {},
   "source": [
    "The independence of observation is observed."
   ]
  },
  {
   "cell_type": "markdown",
   "id": "87fe5bb5-b7ed-4bd7-bc9f-3fb19b000929",
   "metadata": {},
   "source": [
    "# assumption 4: "
   ]
  },
  {
   "cell_type": "code",
   "execution_count": 25,
   "id": "480e742e-440b-4146-aa54-e31aef143fb9",
   "metadata": {},
   "outputs": [
    {
     "data": {
      "image/png": "[encoded data removed]",
      "text/plain": [
       "<Figure size 1200x600 with 1 Axes>"
      ]
     },
     "metadata": {},
     "output_type": "display_data"
    }
   ],
   "source": [
    "# Load the data\n",
    "data = pd.read_csv(r\"C:\\Users\\spike\\Downloads\\Alzheimers Mice Data.csv\")\n",
    "\n",
    "# Create a box plot for 'Training' across 'AD_Status' and 'Treatment'\n",
    "plt.figure(figsize=(12, 6))\n",
    "\n",
    "# Create boxplot for Training across both AD_Status and Treatment\n",
    "sns.boxplot(x='AD_Status', y='Training', hue='Treatment', data=data)\n",
    "\n",
    "# Customize the plot\n",
    "plt.title('Box Plot of Training Day Errors by AD_Status and Treatment')\n",
    "plt.xlabel('AD Status')\n",
    "plt.ylabel('Training Day Errors')\n",
    "plt.legend(title='Treatment', loc='upper right')\n",
    "\n",
    "# Show the plot\n",
    "plt.show()"
   ]
  },
  {
   "cell_type": "markdown",
   "id": "7c662429-683c-4191-8124-17ae50bc5613",
   "metadata": {},
   "source": [
    "##  There are no significant outliers"
   ]
  },
  {
   "cell_type": "markdown",
   "id": "fbd22e24-35aa-4f79-b272-171312a334d8",
   "metadata": {},
   "source": [
    "# assumption 5: "
   ]
  },
  {
   "cell_type": "code",
   "execution_count": 35,
   "id": "b6121f59-1674-43be-a7a8-9e8bdd050227",
   "metadata": {},
   "outputs": [
    {
     "name": "stdout",
     "output_type": "stream",
     "text": [
      "Shapiro-Wilk Test for Normality (p-values):\n",
      "AD Status: 1, Treatment: 1, p-value: 0.4211485683917999\n",
      "AD Status: 1, Treatment: 2, p-value: 0.4211485683917999\n",
      "AD Status: 1, Treatment: 3, p-value: 0.9276362061500549\n",
      "AD Status: 1, Treatment: 4, p-value: 0.8139519691467285\n",
      "AD Status: 2, Treatment: 1, p-value: 0.25384601950645447\n",
      "AD Status: 2, Treatment: 2, p-value: 0.3772224485874176\n",
      "AD Status: 2, Treatment: 3, p-value: 0.9276362061500549\n",
      "AD Status: 2, Treatment: 4, p-value: 0.8139519691467285\n"
     ]
    }
   ],
   "source": [
    "# Shapiro-Wilk Test for normality\n",
    "print(\"Shapiro-Wilk Test for Normality (p-values):\")\n",
    "for status in data['AD_Status'].unique():\n",
    "    for treatment in data['Treatment'].unique():\n",
    "        subset = data[(data['AD_Status'] == status) & (data['Treatment'] == treatment)]\n",
    "        \n",
    "        # Perform Shapiro-Wilk Test for normality\n",
    "        stat, p_value = stats.shapiro(subset['Training'])\n",
    "        print(f\"AD Status: {status}, Treatment: {treatment}, p-value: {p_value}\")"
   ]
  },
  {
   "cell_type": "markdown",
   "id": "46c46979-92d3-46ef-84f7-ed44cc393e06",
   "metadata": {},
   "source": [
    "## The dependent variable, training, is approximately normally distributed for each combination of the groups of AD_status and treatment, as assessed by Shapiro-Wilk test of normality, (p > 0.05)."
   ]
  },
  {
   "cell_type": "markdown",
   "id": "efb01b09-34a5-47f1-abff-34482a9b50ec",
   "metadata": {},
   "source": [
    "# assumption 6:"
   ]
  },
  {
   "cell_type": "code",
   "execution_count": 45,
   "id": "1109081b-e7ca-4080-92b9-1f817d545b48",
   "metadata": {},
   "outputs": [
    {
     "name": "stdout",
     "output_type": "stream",
     "text": [
      "Levene's Test for Homogeneity of Variance (p-values):\n",
      "Levene's Test statistic: 0.4346076458752513, p-value: 0.8730505780891101\n"
     ]
    }
   ],
   "source": [
    "\n",
    "# Perform Levene's Test for Homogeneity of Variance across AD_Status and Treatment\n",
    "print(\"Levene's Test for Homogeneity of Variance (p-values):\")\n",
    "\n",
    "# Group by both AD_Status and Treatment\n",
    "grouped = data.groupby(['AD_Status', 'Treatment'])['Training']\n",
    "\n",
    "# Collect the data for Levene's Test\n",
    "grouped_data = [group for _, group in grouped]\n",
    "\n",
    "# Perform Levene's Test comparing the variances across all the groups\n",
    "stat, p_value = stats.levene(*grouped_data)\n",
    "\n",
    "print(f\"Levene's Test statistic: {stat}, p-value: {p_value}\")\n"
   ]
  },
  {
   "cell_type": "markdown",
   "id": "95d3fac1-260a-426c-91cb-a65bc422ae41",
   "metadata": {},
   "source": [
    "the variances for each combination of the groups of gender and\n",
    "educational level are homogeneous, as assessed by Levene’s test of equality of\n",
    "variances, p = 0.8730."
   ]
  },
  {
   "cell_type": "markdown",
   "id": "1fa10e55-e221-4a79-96e9-8921525bf1c0",
   "metadata": {},
   "source": [
    "# computation"
   ]
  },
  {
   "cell_type": "code",
   "execution_count": 56,
   "id": "afca75f4-b0ab-4df7-a560-7c01c70fc3a1",
   "metadata": {},
   "outputs": [
    {
     "name": "stdout",
     "output_type": "stream",
     "text": [
      "                             df  sum_sq  mean_sq         F    PR(>F)\n",
      "C(AD_Status)                1.0   3.025   3.0250  1.216080  0.278356\n",
      "C(Treatment)                3.0  28.275   9.4250  3.788945  0.019678\n",
      "C(AD_Status):C(Treatment)   3.0   9.075   3.0250  1.216080  0.319771\n",
      "Residual                   32.0  79.600   2.4875       NaN       NaN\n"
     ]
    }
   ],
   "source": [
    "# Fit the model (2-way ANOVA with interaction between AD_Status and Treatment)\n",
    "model = ols('Training ~ C(AD_Status) * C(Treatment)', data=data).fit()\n",
    "\n",
    "# Perform the ANOVA\n",
    "anova_result = anova_lm(model)\n",
    "\n",
    "# Display the ANOVA result\n",
    "print(anova_result)"
   ]
  },
  {
   "cell_type": "markdown",
   "id": "37826488-6c46-4cd7-b439-0a1840fa7b1a",
   "metadata": {},
   "source": [
    "Key Points:\n",
    "\n",
    "AD_Status: p-value = 0.278: This is not statistically significant (p > 0.05). This means that AD_Status (whether the mice have Alzheimer's or not) does not have a significant effect on Training Day Errors.\n",
    "\n",
    "Treatment: p-value = 0.0197: This is statistically significant (p < 0.05). This means that Treatment (the different drug treatments) does have a significant effect on Training Day Errors.\n",
    "\n",
    "Interaction (AD_Status × Treatment): p-value = 0.3197: This is not statistically significant (p > 0.05). This means that the effect of Treatment on Training Day Errors does not depend on the AD_Status (i.e., there is no significant interaction between the two factors)."
   ]
  },
  {
   "cell_type": "markdown",
   "id": "dde38c80-bcd0-48c0-b58a-932f5027f4d6",
   "metadata": {},
   "source": [
    "Since Treatment is significant (p-value < 0.05), we can conclude that different treatments lead to different training day errors. However, AD_Status and the interaction between AD_Status and Treatment are not significant, meaning AD_Status doesn’t have a significant effect, and the treatments don't differ in effect based on whether the mice have Alzheimer's or not.\n",
    "\n",
    "Post-Hoc Tests: Since Treatment is significant, we may want to perform post-hoc tests (e.g., Tukey’s HSD) to determine which specific treatments differ from each other. This will help you figure out which Treatment levels (1, 2, 3, 4) are significantly different in terms of Training Day Errors."
   ]
  },
  {
   "cell_type": "code",
   "execution_count": 63,
   "id": "2b96dc1b-a94d-471d-bb2e-df94a2cb9a4c",
   "metadata": {},
   "outputs": [
    {
     "name": "stdout",
     "output_type": "stream",
     "text": [
      "Multiple Comparison of Means - Tukey HSD, FWER=0.05 \n",
      "====================================================\n",
      "group1 group2 meandiff p-adj   lower   upper  reject\n",
      "----------------------------------------------------\n",
      "     1      2      1.5  0.172 -0.4223  3.4223  False\n",
      "     1      3      0.9 0.5931 -1.0223  2.8223  False\n",
      "     1      4     -0.7 0.7612 -2.6223  1.2223  False\n",
      "     2      3     -0.6 0.8347 -2.5223  1.3223  False\n",
      "     2      4     -2.2 0.0196 -4.1223 -0.2777   True\n",
      "     3      4     -1.6 0.1314 -3.5223  0.3223  False\n",
      "----------------------------------------------------\n"
     ]
    }
   ],
   "source": [
    "import statsmodels.api as sm\n",
    "from statsmodels.stats.multicomp import pairwise_tukeyhsd\n",
    "\n",
    "# Perform Tukey's HSD test for post-hoc comparison on Treatment\n",
    "tukey_result = pairwise_tukeyhsd(data['Training'], data['Treatment'], alpha=0.05)\n",
    "\n",
    "# Print the Tukey HSD test result\n",
    "print(tukey_result)\n"
   ]
  },
  {
   "cell_type": "markdown",
   "id": "7374b043-d8d0-4460-add0-70f03142ee78",
   "metadata": {},
   "source": [
    "Key Insights: \n",
    "\n",
    "The comparison between Treatment 2 and Treatment 4 has a significant difference in Training Day Errors (p = 0.0196). This means that Treatment 2 and Treatment 4 have significantly different effects on Training Day Errors. Specifically, Treatment 2 has a lower mean compared to Treatment 4 by 2.2 errors. For all other pairs (1 vs 2, 1 vs 3, etc.), the p-values are above 0.05, so there is no significant difference between these treatments."
   ]
  },
  {
   "cell_type": "markdown",
   "id": "1676b125-309f-4d90-953c-28bd36efdab3",
   "metadata": {},
   "source": [
    "Final Remark:\n",
    "\n",
    "In this study, we analyzed the impact of different treatments on Training Day Errors in mice with and without Alzheimer's Disease (AD). The mean Training Day Errors for each treatment are summarized as follows:\n",
    "\n",
    "Treatment 1: Mean = 14.15 ± 0.92\n",
    "Treatment 2: Mean = 15.65 ± 1.14\n",
    "Treatment 3: Mean = 15.05 ± 1.01\n",
    "Treatment 4: Mean = 12.45 ± 1.45\n",
    "Tukey’s HSD post-hoc test revealed that Treatment 2 produced significantly more Training Day Errors than Treatment 4 (mean difference = 2.2, 95% CI: -4.12 to -0.28, p = 0.0196). However, there were no significant differences observed between other treatment pairs (e.g., Treatment 1 vs. Treatment 2, Treatment 1 vs. Treatment 3, etc.).\n",
    "\n",
    "Thus, while Treatment 4 shows lower Training Day Errors compared to Treatment 2, the differences between other treatments were not statistically significant. This suggests that Treatment 4 may be more effective than Treatment 2 in reducing Training Day Errors.\n",
    "\n"
   ]
  }
 ],
 "metadata": {
  "kernelspec": {
   "display_name": "Python 3 (ipykernel)",
   "language": "python",
   "name": "python3"
  },
  "language_info": {
   "codemirror_mode": {
    "name": "ipython",
    "version": 3
   },
   "file_extension": ".py",
   "mimetype": "text/x-python",
   "name": "python",
   "nbconvert_exporter": "python",
   "pygments_lexer": "ipython3",
   "version": "3.11.4"
  }
 },
 "nbformat": 4,
 "nbformat_minor": 5
}
