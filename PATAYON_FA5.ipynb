{
 "cells": [
  {
   "cell_type": "markdown",
   "id": "345ddbf2-6d73-4a85-8c6b-f7f325659150",
   "metadata": {},
   "source": [
    "# Formative assessment #5\n",
    "## Statistical Theory"
   ]
  },
  {
   "cell_type": "markdown",
   "id": "2a6ea627-af97-4c60-b1dd-b40f03abee55",
   "metadata": {},
   "source": [
    "### 8.18"
   ]
  },
  {
   "cell_type": "markdown",
   "id": "9bcd97a7-612b-467c-a468-d5bd069f6e18",
   "metadata": {},
   "source": [
    "List all samples of size n ¼ 2 that are possible (with replacement) from the population in Problem\n",
    "8.17.\n",
    "\n",
    "first, calculate the mean and variance of X in the problem 8.17, then compare it."
   ]
  },
  {
   "cell_type": "code",
   "execution_count": 34,
   "id": "af16ef0c-2f1c-4926-b5c7-36045bda1f28",
   "metadata": {},
   "outputs": [
    {
     "name": "stdout",
     "output_type": "stream",
     "text": [
      "Number of students in the Midwestern University: [ 9 12 15]\n",
      "Their credits taking, respectively: [0.33333333 0.33333333 0.33333333]\n",
      "\n",
      "===== Results =====\n",
      "The Mean of X: 12.0\n",
      "The Variance of X: 6.0\n",
      "\n",
      "Sample with replacement: [(9, 9), (9, 12), (9, 15), (12, 9), (12, 12), (12, 15), (15, 9), (15, 12), (15, 15)]\n",
      "Sample means: [ 9.  10.5 12.  10.5 12.  13.5 12.  13.5 15. ]\n",
      "Mean of the sample means: 12.0\n",
      "Variance of the sample means: 3.0\n",
      "The half of the population variance: 3.0\n"
     ]
    }
   ],
   "source": [
    "# Problem 8.17: Calculating the mean and variance of X\n",
    "import itertools\n",
    "import numpy as np\n",
    "\n",
    "students = np.array([9, 12, 15])\n",
    "credits = np.array([1/3, 1/3, 1/3])\n",
    "\n",
    "# mean and variance of X\n",
    "mean_X = np.sum(students * credits)\n",
    "variance_X = np.sum((students**2) * credits) - mean_X**2\n",
    "\n",
    "# sample\n",
    "n = 2\n",
    "samples = list(itertools.product(values, repeat=n))\n",
    "\n",
    "# sample means\n",
    "sample_means = np.array([np.mean(sample) for sample in samples])\n",
    "\n",
    "# mean of the sample means\n",
    "mean_sample_means = np.mean(sample_means)\n",
    "\n",
    "# variance of the sample means\n",
    "variance_sample_means = np.var(sample_means)\n",
    "\n",
    "# variance_X / 2\n",
    "variance_2_sample_means = variance_X / 2\n",
    "\n",
    "print(f\"Number of students in the Midwestern University: {students}\")\n",
    "print(f\"Their credits taking, respectively: {credits}\")\n",
    "print()\n",
    "print(\"===== Results =====\")\n",
    "print(f\"The Mean of X: {mean_X}\")\n",
    "print(f\"The Variance of X: {variance_X}\")\n",
    "print()\n",
    "print(f\"Sample with replacement: {samples}\")\n",
    "print(f\"Sample means: {sample_means}\")\n",
    "print(f\"Mean of the sample means: {mean_sample_means}\")\n",
    "print(f\"Variance of the sample means: {variance_sample_means}\")\n",
    "print(f\"The half of the population variance: {variance_2_sample_means}\")"
   ]
  },
  {
   "cell_type": "markdown",
   "id": "03ea63ea-0ca3-4f35-b4b4-68f7539463a9",
   "metadata": {},
   "source": [
    "as you can see, the mean of X (12) and the mean of the sample mean (12) is equal to each other. And the the variance of sample mean (3) which is the half of the population mean (3) is equal to each other"
   ]
  },
  {
   "cell_type": "markdown",
   "id": "3b515ec2-8b80-40d2-925e-f99dc7f9af64",
   "metadata": {},
   "source": [
    "### 8.21"
   ]
  },
  {
   "cell_type": "markdown",
   "id": "d869329d-b74a-4ef4-9c92-9e5d4756e815",
   "metadata": {},
   "source": [
    "A population consists of the four numbers 3, 7, 11, and 15. Consider all possible samples of size 2 that can be \n",
    "drawn with replacement from this population. Find (a) the population mean, (b) the population standar deviation, (c) the mean of the sampling distribution of means, and (d) the standard deviation of the sampling \n",
    "distribution of means. Verify parts (c) and (d ) directly from (a) and (b) by using suitable formula.d"
   ]
  },
  {
   "cell_type": "code",
   "execution_count": 47,
   "id": "e9dfb2c3-08b2-4594-8f8d-756e258342af",
   "metadata": {},
   "outputs": [
    {
     "name": "stdout",
     "output_type": "stream",
     "text": [
      "Population Mean: 9.0\n",
      "Population Standard Deviation: 4.47\n",
      "Mean of the Sampling Distribution of Means: 9.0\n",
      "Standard Deviation of the Sampling Distribution of Means: 3.16\n"
     ]
    }
   ],
   "source": [
    "import numpy as np\n",
    "\n",
    "population = np.array([3, 7, 11, 15])\n",
    "population_mean = np.mean(population)\n",
    "population_std = np.std(population)\n",
    "sampling_distribution_mean = population_mean  \n",
    "sampling_distribution_std = population_std / np.sqrt(2)\n",
    "\n",
    "print(f\"Population Mean: {population_mean}\")\n",
    "print(f\"Population Standard Deviation: {population_std:.2f}\")\n",
    "print(f\"Mean of the Sampling Distribution of Means: {sampling_distribution_mean}\")\n",
    "print(f\"Standard Deviation of the Sampling Distribution of Means: {sampling_distribution_std:.2f}\")\n"
   ]
  },
  {
   "cell_type": "markdown",
   "id": "32042f86-eddd-44af-988d-5da9ccb2acd7",
   "metadata": {},
   "source": [
    "### 8.34"
   ]
  },
  {
   "cell_type": "markdown",
   "id": "33ee699d-dd59-4a29-9748-04dc38870db7",
   "metadata": {},
   "source": [
    "Find the probability that of the next 200 children born, (a) less than 40% will be boys, (b) between 43% and\n",
    "57% will be girls, and (c) more than 54% will be boys. Assume equal probabilities for the births of boys and\n",
    "girls."
   ]
  },
  {
   "cell_type": "code",
   "execution_count": 49,
   "id": "b8a9543c-216a-498a-b864-d1a602b157ff",
   "metadata": {},
   "outputs": [
    {
     "name": "stdout",
     "output_type": "stream",
     "text": [
      "Probability that less than 40% are boys: 0.0018\n",
      "Probability that between 43% and 57% are girls: 0.95996\n",
      "Probability that more than 54% are boys: 0.1146\n"
     ]
    }
   ],
   "source": [
    "import numpy as np\n",
    "from scipy.stats import binom\n",
    "\n",
    "n = 200 \n",
    "p = 0.5 \n",
    "\n",
    "prob_a = binom.cdf(79, n, p)\n",
    "\n",
    "# (b) Probability that between 43% and 57% are girls (i.e., 86 to 114 girls or 114 to 86 boys)\n",
    "prob_b = binom.cdf(114, n, p) - binom.cdf(85, n, p)\n",
    "\n",
    "# (c) Probability that more than 54% are boys (i.e., > 108 boys)\n",
    "prob_c = 1 - binom.cdf(108, n, p)\n",
    "\n",
    "print(f\"Probability that less than 40% are boys: {prob_a:.4f}\")\n",
    "print(f\"Probability that between 43% and 57% are girls: {prob_b:.5f}\")\n",
    "print(f\"Probability that more than 54% are boys: {prob_c:.4f}\")\n"
   ]
  },
  {
   "cell_type": "markdown",
   "id": "e7864d14-de48-433d-810e-78c1b4abc6cc",
   "metadata": {},
   "source": [
    "### 8.49"
   ]
  },
  {
   "cell_type": "markdown",
   "id": "cd244605-ad60-45c3-8ae5-e3ad4698e242",
   "metadata": {},
   "source": [
    "#### First, Lets find the mean and variance of the given data set from the table"
   ]
  },
  {
   "cell_type": "code",
   "execution_count": 63,
   "id": "ff06e780-6355-4d33-9439-a1563841303b",
   "metadata": {},
   "outputs": [
    {
     "data": {
      "text/html": [
       "<div>\n",
       "<style scoped>\n",
       "    .dataframe tbody tr th:only-of-type {\n",
       "        vertical-align: middle;\n",
       "    }\n",
       "\n",
       "    .dataframe tbody tr th {\n",
       "        vertical-align: top;\n",
       "    }\n",
       "\n",
       "    .dataframe thead th {\n",
       "        text-align: right;\n",
       "    }\n",
       "</style>\n",
       "<table border=\"1\" class=\"dataframe\">\n",
       "  <thead>\n",
       "    <tr style=\"text-align: right;\">\n",
       "      <th></th>\n",
       "      <th>x</th>\n",
       "      <th>p(x)</th>\n",
       "    </tr>\n",
       "  </thead>\n",
       "  <tbody>\n",
       "    <tr>\n",
       "      <th>0</th>\n",
       "      <td>6</td>\n",
       "      <td>0.1</td>\n",
       "    </tr>\n",
       "    <tr>\n",
       "      <th>1</th>\n",
       "      <td>9</td>\n",
       "      <td>0.2</td>\n",
       "    </tr>\n",
       "    <tr>\n",
       "      <th>2</th>\n",
       "      <td>12</td>\n",
       "      <td>0.4</td>\n",
       "    </tr>\n",
       "    <tr>\n",
       "      <th>3</th>\n",
       "      <td>15</td>\n",
       "      <td>0.2</td>\n",
       "    </tr>\n",
       "    <tr>\n",
       "      <th>4</th>\n",
       "      <td>18</td>\n",
       "      <td>0.1</td>\n",
       "    </tr>\n",
       "  </tbody>\n",
       "</table>\n",
       "</div>"
      ],
      "text/plain": [
       "    x  p(x)\n",
       "0   6   0.1\n",
       "1   9   0.2\n",
       "2  12   0.4\n",
       "3  15   0.2\n",
       "4  18   0.1"
      ]
     },
     "execution_count": 63,
     "metadata": {},
     "output_type": "execute_result"
    }
   ],
   "source": [
    "import pandas as pd\n",
    "x = [6, 9, 12, 15, 18]\n",
    "p_x = [0.1, 0.2, 0.4, 0.2, 0.1]\n",
    "\n",
    "data = { 'x':[6, 9, 12, 15, 18],\n",
    "         'p(x)':[0.1, 0.2, 0.4, 0.2, 0.1]\n",
    "       }\n",
    "\n",
    "df = pd.DataFrame(data)\n",
    "df"
   ]
  },
  {
   "cell_type": "code",
   "execution_count": 43,
   "id": "4a809234-3baa-4c2f-9f69-b4525e60c4da",
   "metadata": {},
   "outputs": [
    {
     "name": "stdout",
     "output_type": "stream",
     "text": [
      "Mean: 12.0\n",
      "Variance: 10.8\n"
     ]
    }
   ],
   "source": [
    "import numpy as np\n",
    "\n",
    "x = np.array([6, 9, 12, 15, 18])\n",
    "p_x = np.array([0.1, 0.2, 0.4, 0.2, 0.1])\n",
    "\n",
    "mean = np.sum(x * p_x)\n",
    "variance = np.sum(((x - mean)**2) * p_x)\n",
    "\n",
    "print(f\"Mean: {mean:.1f}\")\n",
    "print(f\"Variance: {variance:.1f}\")"
   ]
  },
  {
   "cell_type": "code",
   "execution_count": 61,
   "id": "e828f45d-a272-4ea1-9bf2-493d5529a95a",
   "metadata": {},
   "outputs": [
    {
     "data": {
      "text/html": [
       "<div>\n",
       "<style scoped>\n",
       "    .dataframe tbody tr th:only-of-type {\n",
       "        vertical-align: middle;\n",
       "    }\n",
       "\n",
       "    .dataframe tbody tr th {\n",
       "        vertical-align: top;\n",
       "    }\n",
       "\n",
       "    .dataframe thead th {\n",
       "        text-align: right;\n",
       "    }\n",
       "</style>\n",
       "<table border=\"1\" class=\"dataframe\">\n",
       "  <thead>\n",
       "    <tr style=\"text-align: right;\">\n",
       "      <th></th>\n",
       "      <th>Sample</th>\n",
       "      <th>Mean</th>\n",
       "      <th>Probability</th>\n",
       "    </tr>\n",
       "  </thead>\n",
       "  <tbody>\n",
       "    <tr>\n",
       "      <th>0</th>\n",
       "      <td>(6, 6)</td>\n",
       "      <td>6.0</td>\n",
       "      <td>0.01</td>\n",
       "    </tr>\n",
       "    <tr>\n",
       "      <th>1</th>\n",
       "      <td>(6, 9)</td>\n",
       "      <td>7.5</td>\n",
       "      <td>0.02</td>\n",
       "    </tr>\n",
       "    <tr>\n",
       "      <th>2</th>\n",
       "      <td>(6, 12)</td>\n",
       "      <td>9.0</td>\n",
       "      <td>0.04</td>\n",
       "    </tr>\n",
       "    <tr>\n",
       "      <th>3</th>\n",
       "      <td>(6, 15)</td>\n",
       "      <td>10.5</td>\n",
       "      <td>0.02</td>\n",
       "    </tr>\n",
       "    <tr>\n",
       "      <th>4</th>\n",
       "      <td>(6, 18)</td>\n",
       "      <td>12.0</td>\n",
       "      <td>0.01</td>\n",
       "    </tr>\n",
       "    <tr>\n",
       "      <th>5</th>\n",
       "      <td>(9, 6)</td>\n",
       "      <td>7.5</td>\n",
       "      <td>0.02</td>\n",
       "    </tr>\n",
       "    <tr>\n",
       "      <th>6</th>\n",
       "      <td>(9, 9)</td>\n",
       "      <td>9.0</td>\n",
       "      <td>0.04</td>\n",
       "    </tr>\n",
       "    <tr>\n",
       "      <th>7</th>\n",
       "      <td>(9, 12)</td>\n",
       "      <td>10.5</td>\n",
       "      <td>0.08</td>\n",
       "    </tr>\n",
       "    <tr>\n",
       "      <th>8</th>\n",
       "      <td>(9, 15)</td>\n",
       "      <td>12.0</td>\n",
       "      <td>0.04</td>\n",
       "    </tr>\n",
       "    <tr>\n",
       "      <th>9</th>\n",
       "      <td>(9, 18)</td>\n",
       "      <td>13.5</td>\n",
       "      <td>0.02</td>\n",
       "    </tr>\n",
       "    <tr>\n",
       "      <th>10</th>\n",
       "      <td>(12, 6)</td>\n",
       "      <td>9.0</td>\n",
       "      <td>0.04</td>\n",
       "    </tr>\n",
       "    <tr>\n",
       "      <th>11</th>\n",
       "      <td>(12, 9)</td>\n",
       "      <td>10.5</td>\n",
       "      <td>0.08</td>\n",
       "    </tr>\n",
       "    <tr>\n",
       "      <th>12</th>\n",
       "      <td>(12, 12)</td>\n",
       "      <td>12.0</td>\n",
       "      <td>0.16</td>\n",
       "    </tr>\n",
       "    <tr>\n",
       "      <th>13</th>\n",
       "      <td>(12, 15)</td>\n",
       "      <td>13.5</td>\n",
       "      <td>0.08</td>\n",
       "    </tr>\n",
       "    <tr>\n",
       "      <th>14</th>\n",
       "      <td>(12, 18)</td>\n",
       "      <td>15.0</td>\n",
       "      <td>0.04</td>\n",
       "    </tr>\n",
       "    <tr>\n",
       "      <th>15</th>\n",
       "      <td>(15, 6)</td>\n",
       "      <td>10.5</td>\n",
       "      <td>0.02</td>\n",
       "    </tr>\n",
       "    <tr>\n",
       "      <th>16</th>\n",
       "      <td>(15, 9)</td>\n",
       "      <td>12.0</td>\n",
       "      <td>0.04</td>\n",
       "    </tr>\n",
       "    <tr>\n",
       "      <th>17</th>\n",
       "      <td>(15, 12)</td>\n",
       "      <td>13.5</td>\n",
       "      <td>0.08</td>\n",
       "    </tr>\n",
       "    <tr>\n",
       "      <th>18</th>\n",
       "      <td>(15, 15)</td>\n",
       "      <td>15.0</td>\n",
       "      <td>0.04</td>\n",
       "    </tr>\n",
       "    <tr>\n",
       "      <th>19</th>\n",
       "      <td>(15, 18)</td>\n",
       "      <td>16.5</td>\n",
       "      <td>0.02</td>\n",
       "    </tr>\n",
       "    <tr>\n",
       "      <th>20</th>\n",
       "      <td>(18, 6)</td>\n",
       "      <td>12.0</td>\n",
       "      <td>0.01</td>\n",
       "    </tr>\n",
       "    <tr>\n",
       "      <th>21</th>\n",
       "      <td>(18, 9)</td>\n",
       "      <td>13.5</td>\n",
       "      <td>0.02</td>\n",
       "    </tr>\n",
       "    <tr>\n",
       "      <th>22</th>\n",
       "      <td>(18, 12)</td>\n",
       "      <td>15.0</td>\n",
       "      <td>0.04</td>\n",
       "    </tr>\n",
       "    <tr>\n",
       "      <th>23</th>\n",
       "      <td>(18, 15)</td>\n",
       "      <td>16.5</td>\n",
       "      <td>0.02</td>\n",
       "    </tr>\n",
       "    <tr>\n",
       "      <th>24</th>\n",
       "      <td>(18, 18)</td>\n",
       "      <td>18.0</td>\n",
       "      <td>0.01</td>\n",
       "    </tr>\n",
       "  </tbody>\n",
       "</table>\n",
       "</div>"
      ],
      "text/plain": [
       "      Sample  Mean  Probability\n",
       "0     (6, 6)   6.0         0.01\n",
       "1     (6, 9)   7.5         0.02\n",
       "2    (6, 12)   9.0         0.04\n",
       "3    (6, 15)  10.5         0.02\n",
       "4    (6, 18)  12.0         0.01\n",
       "5     (9, 6)   7.5         0.02\n",
       "6     (9, 9)   9.0         0.04\n",
       "7    (9, 12)  10.5         0.08\n",
       "8    (9, 15)  12.0         0.04\n",
       "9    (9, 18)  13.5         0.02\n",
       "10   (12, 6)   9.0         0.04\n",
       "11   (12, 9)  10.5         0.08\n",
       "12  (12, 12)  12.0         0.16\n",
       "13  (12, 15)  13.5         0.08\n",
       "14  (12, 18)  15.0         0.04\n",
       "15   (15, 6)  10.5         0.02\n",
       "16   (15, 9)  12.0         0.04\n",
       "17  (15, 12)  13.5         0.08\n",
       "18  (15, 15)  15.0         0.04\n",
       "19  (15, 18)  16.5         0.02\n",
       "20   (18, 6)  12.0         0.01\n",
       "21   (18, 9)  13.5         0.02\n",
       "22  (18, 12)  15.0         0.04\n",
       "23  (18, 15)  16.5         0.02\n",
       "24  (18, 18)  18.0         0.01"
      ]
     },
     "execution_count": 61,
     "metadata": {},
     "output_type": "execute_result"
    }
   ],
   "source": [
    "import pandas as pd\n",
    "from itertools import product\n",
    "import numpy as np\n",
    "\n",
    "x = np.array([6, 9, 12, 15, 18])  \n",
    "p_x = np.array([0.1, 0.2, 0.4, 0.2, 0.1])  \n",
    "\n",
    "samples = list(product(x, repeat=2))\n",
    "\n",
    "sample_means = [(a + b) / 2 for a, b in samples]\n",
    "\n",
    "# for calculating the probability\n",
    "sample_probs = [p_x[np.where(x == a)[0][0]] * p_x[np.where(x == b)[0][0]] for a, b in samples]\n",
    "\n",
    "df = pd.DataFrame({\n",
    "    'Sample': [f\"({a}, {b})\" for a, b in samples],\n",
    "    'Mean': sample_means,\n",
    "    'Probability': sample_probs\n",
    "})\n",
    "\n",
    "df\n"
   ]
  }
 ],
 "metadata": {
  "kernelspec": {
   "display_name": "Python 3 (ipykernel)",
   "language": "python",
   "name": "python3"
  },
  "language_info": {
   "codemirror_mode": {
    "name": "ipython",
    "version": 3
   },
   "file_extension": ".py",
   "mimetype": "text/x-python",
   "name": "python",
   "nbconvert_exporter": "python",
   "pygments_lexer": "ipython3",
   "version": "3.11.4"
  }
 },
 "nbformat": 4,
 "nbformat_minor": 5
}
