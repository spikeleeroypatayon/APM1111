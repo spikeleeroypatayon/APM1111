{
 "cells": [
  {
   "cell_type": "code",
   "execution_count": 44,
   "id": "69cdc11d",
   "metadata": {},
   "outputs": [
    {
     "data": {
      "text/plain": [
       "('60-69', '70-79', '80-89')"
      ]
     },
     "execution_count": 44,
     "metadata": {},
     "output_type": "execute_result"
    }
   ],
   "source": [
    "import numpy as np\n",
    "import pandas as pd\n",
    "import scipy.stats as stats\n",
    "\n",
    "import numpy as np\n",
    "\n",
    "grades = ['90-99', '80-89', '70-79', '60-69', '50-59', '40-49', '30-39']\n",
    "frequencies = [9, 32, 43, 21, 11, 3, 1]\n",
    "cumulative_freq = np.cumsum(frequencies)\n",
    "total_students = 120\n",
    "\n",
    "# Positions of the quartiles\n",
    "q3_pos = (120 + 1) / 4\n",
    "q2_pos = (120 + 1) / 2\n",
    "q1_pos = 3 * (120 + 1) / 4\n",
    "\n",
    "# Function to find the quartile range based on position\n",
    "def find_quartile(pos, grades, cumulative_freq):\n",
    "    for i, cum_freq in enumerate(cumulative_freq):\n",
    "        if pos <= cum_freq:\n",
    "            return grades[i]\n",
    "    return None\n",
    "\n",
    "# Find the quartiles\n",
    "q1 = find_quartile(q1_pos, grades, cumulative_freq)\n",
    "q2 = find_quartile(q2_pos, grades, cumulative_freq)\n",
    "q3 = find_quartile(q3_pos, grades, cumulative_freq)\n",
    "\n",
    "q1, q2, q3"
   ]
  },
  {
   "cell_type": "code",
   "execution_count": 37,
   "id": "e01d340c",
   "metadata": {},
   "outputs": [
    {
     "name": "stdout",
     "output_type": "stream",
     "text": [
      "Relative Dispersion: \n",
      "Statistics: 10.256\n",
      "Algebra: 10.411\n",
      "\n",
      "Absolute Dispersion: \n",
      "Statistics: 8.0\n",
      "Algebra: 7.6\n",
      "\n",
      "The data in relative dispersion, the data in algebra is greater than statistics\n",
      "The data in absolute dispersion, the data in statistics is greater than algebra\n"
     ]
    }
   ],
   "source": [
    "# Question 2: \n",
    "\n",
    "# Data in statistics\n",
    "mean_stats = 78\n",
    "std_dev_stats = 8.0\n",
    "n_stats = 150\n",
    "# Data in algebra\n",
    "mean_algebra = 73\n",
    "std_dev_algebra = 7.6\n",
    "n_algebra = 150\n",
    "\n",
    "# Absolute dispersion is simply the standard deviation\n",
    "abs_disp_stats = std_dev_stats\n",
    "abs_disp_algebra = std_dev_algebra\n",
    "\n",
    "# Relative dispersion is the coefficient of variation: (std dev / mean) * 100\n",
    "rel_disp_stats = (std_dev_stats / mean_stats) * 100\n",
    "rel_disp_algebra = (std_dev_algebra / mean_algebra) * 100\n",
    "\n",
    "print(\"Relative Dispersion: \")\n",
    "print(f\"Statistics: {rel_disp_stats:.3f}\")\n",
    "print(f\"Algebra: {rel_disp_algebra:.3f}\")\n",
    "print()\n",
    "\n",
    "print(\"Absolute Dispersion: \")\n",
    "print(f\"Statistics: {abs_disp_stats}\")\n",
    "print(f\"Algebra: {abs_disp_algebra}\")\n",
    "print()\n",
    "\n",
    "print(\"The data in relative dispersion, the data in algebra is greater than statistics\")\n",
    "print(\"The data in absolute dispersion, the data in statistics is greater than algebra\")"
   ]
  },
  {
   "cell_type": "code",
   "execution_count": 22,
   "id": "7b364e65",
   "metadata": {},
   "outputs": [
    {
     "name": "stdout",
     "output_type": "stream",
     "text": [
      " Mean: 5.600\n",
      " Standard Deviation: 2.059\n",
      "\n",
      " Z-Scores: [ 0.19425717 -1.74831455  1.16554303  0.6799001  -0.29138576]\n",
      "\n",
      "Mean of Z scores: 0.0\n",
      "Standard Deviation of Z scores: 1.0\n"
     ]
    }
   ],
   "source": [
    "# Question 3\n",
    "\n",
    "data = np.array([6, 2, 8, 7, 5])\n",
    "\n",
    "# mean and standard deviation\n",
    "mean = np.mean(data)\n",
    "std_dev = np.std(data)\n",
    "\n",
    "# converting the data into z scores\n",
    "z_score = stats.zscore(data)\n",
    "\n",
    "# mean and standard deviation of the standard scores\n",
    "z_mean = np.mean(z_score)\n",
    "z_std_dev = np.std(z_score)\n",
    "\n",
    "print(f\" Mean: {mean:.3f}\")\n",
    "print(f\" Standard Deviation: {std_dev:.3f}\")\n",
    "print()\n",
    "\n",
    "print(f\" Z-Scores: {z_score}\")\n",
    "print()\n",
    "\n",
    "print(f\"Mean of Z scores: {z_mean:.1f}\")\n",
    "print(f\"Standard Deviation of Z scores: {z_std_dev:.1f}\")\n",
    "\n",
    "# as you can see, the mean is 0 and standard deviaton is 1 so that implies that\n",
    "# the mean and standard deviation of a set of standard scores are equal to 0 and 1"
   ]
  },
  {
   "cell_type": "code",
   "execution_count": 29,
   "id": "3c408351",
   "metadata": {},
   "outputs": [
    {
     "name": "stdout",
     "output_type": "stream",
     "text": [
      "Sum of the Mean of the Mass: 118.79\n",
      "Sum of the Standard Deviation of the Mass: 0.740\n"
     ]
    }
   ],
   "source": [
    "# Question 4\n",
    "mass = [ 20.48, 35.97, 62.34]\n",
    "std = [0.21, 0.46, 0.54]\n",
    "\n",
    "mean_sum = np.sum(mass)\n",
    "std_sum = np.sqrt(np.sum(np.array(std)**2))\n",
    "\n",
    "print(f\"Sum of the Mean of the Mass: {mean_sum}\")\n",
    "print(f\"Sum of the Standard Deviation of the Mass: {std_sum:.3f}\")"
   ]
  },
  {
   "cell_type": "code",
   "execution_count": 34,
   "id": "12a3eb6f",
   "metadata": {},
   "outputs": [
    {
     "name": "stdout",
     "output_type": "stream",
     "text": [
      "Mean:12.000000000000002\n",
      "Variance^2: 10.8\n",
      "Samples: [(6, 6), (6, 9), (6, 12), (6, 15), (6, 18), (9, 6), (9, 9), (9, 12), (9, 15), (9, 18), (12, 6), (12, 9), (12, 12), (12, 15), (12, 18), (15, 6), (15, 9), (15, 12), (15, 15), (15, 18), (18, 6), (18, 9), (18, 12), (18, 15), (18, 18)]\n",
      "Mean of the samples: [6.0, 7.5, 9.0, 10.5, 12.0, 7.5, 9.0, 10.5, 12.0, 13.5, 9.0, 10.5, 12.0, 13.5, 15.0, 10.5, 12.0, 13.5, 15.0, 16.5, 12.0, 13.5, 15.0, 16.5, 18.0]\n",
      "Probability of the samples: [0.010000000000000002, 0.020000000000000004, 0.04000000000000001, 0.020000000000000004, 0.010000000000000002, 0.020000000000000004, 0.04000000000000001, 0.08000000000000002, 0.04000000000000001, 0.020000000000000004, 0.04000000000000001, 0.08000000000000002, 0.16000000000000003, 0.08000000000000002, 0.04000000000000001, 0.020000000000000004, 0.04000000000000001, 0.08000000000000002, 0.04000000000000001, 0.020000000000000004, 0.010000000000000002, 0.020000000000000004, 0.04000000000000001, 0.020000000000000004, 0.010000000000000002]\n"
     ]
    }
   ],
   "source": [
    "# Question 5\n",
    "\n",
    "x_values = np.array([6, 9, 12, 15, 18])\n",
    "p_values = np.array([0.1, 0.2, 0.4, 0.2, 0.1])\n",
    "\n",
    "mean_mu = np.sum(x_values * p_values)\n",
    "variance_sigma2 = np.sum(((x_values - mean_mu) ** 2) * p_values)\n",
    "samples = [(x1, x2) for x1 in x_values for x2 in x_values]\n",
    "means_of_samples = [(x1 + x2) / 2 for x1, x2 in samples]\n",
    "probabilities_of_samples = [p_values[np.where(x_values == x1)[0][0]] * p_values[np.where(x_values == x2)[0][0]] \n",
    "                            for x1, x2 in samples]\n",
    "print(f\"Mean:{mean_mu}\")\n",
    "print(f\"Variance^2: {variance_sigma2}\")\n",
    "print(f\"Samples: {samples}\")\n",
    "print(f\"Mean of the samples: {means_of_samples}\")\n",
    "print(f\"Probability of the samples: {probabilities_of_samples}\")"
   ]
  }
 ],
 "metadata": {
  "kernelspec": {
   "display_name": "Python 3 (ipykernel)",
   "language": "python",
   "name": "python3"
  },
  "language_info": {
   "codemirror_mode": {
    "name": "ipython",
    "version": 3
   },
   "file_extension": ".py",
   "mimetype": "text/x-python",
   "name": "python",
   "nbconvert_exporter": "python",
   "pygments_lexer": "ipython3",
   "version": "3.9.13"
  }
 },
 "nbformat": 4,
 "nbformat_minor": 5
}
